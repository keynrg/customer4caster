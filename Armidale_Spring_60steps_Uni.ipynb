{
  "nbformat": 4,
  "nbformat_minor": 0,
  "metadata": {
    "colab": {
      "name": "Armidale_Spring_60steps_Uni.ipynb",
      "provenance": [],
      "collapsed_sections": [],
      "machine_shape": "hm"
    },
    "kernelspec": {
      "name": "python3",
      "display_name": "Python 3"
    }
  },
  "cells": [
    {
      "cell_type": "markdown",
      "metadata": {
        "id": "rDh9dnfr2FUy",
        "colab_type": "text"
      },
      "source": [
        "<a href=\"https://colab.research.google.com/github/googlecolab/colabtools/blob/master/notebooks/colab-github-demo.ipynb\">\n",
        "  <img src=\"https://colab.research.google.com/assets/colab-badge.svg\" alt=\"Open In Colab\"/>\n",
        "</a>\n"
      ]
    },
    {
      "cell_type": "code",
      "metadata": {
        "id": "RusDx9RfG2tl",
        "colab_type": "code",
        "colab": {
          "base_uri": "https://localhost:8080/",
          "height": 84
        },
        "outputId": "0c54c6cb-a080-4d50-a8f7-f305ff6edf51"
      },
      "source": [
        "# Run this before everything\n",
        "!pip install --upgrade --q tensorflow"
      ],
      "execution_count": 1,
      "outputs": [
        {
          "output_type": "stream",
          "text": [
            "\u001b[K     |████████████████████████████████| 421.8MB 29kB/s \n",
            "\u001b[K     |████████████████████████████████| 450kB 60.7MB/s \n",
            "\u001b[K     |████████████████████████████████| 3.9MB 65.5MB/s \n",
            "\u001b[31mERROR: tensorflow-federated 0.12.0 has requirement tensorflow-addons~=0.7.0, but you'll have tensorflow-addons 0.8.3 which is incompatible.\u001b[0m\n",
            "\u001b[?25h"
          ],
          "name": "stdout"
        }
      ]
    },
    {
      "cell_type": "code",
      "metadata": {
        "id": "9chR0vj1G_vn",
        "colab_type": "code",
        "colab": {}
      },
      "source": [
        "from google.colab import drive\n",
        "import pandas as pd\n",
        "from pandas import read_csv, to_datetime\n",
        "import numpy as np\n",
        "from numpy import array,hstack\n",
        "import matplotlib.pyplot as plt\n",
        "from sklearn.preprocessing import MinMaxScaler\n",
        "plt.rcParams['figure.figsize'] = 10, 5\n",
        "import seaborn as sns\n",
        "from sklearn.metrics import mean_squared_error\n",
        "from math import sqrt\n",
        "from datetime import datetime\n"
      ],
      "execution_count": 0,
      "outputs": []
    },
    {
      "cell_type": "code",
      "metadata": {
        "id": "nLrIkJ1QHB2-",
        "colab_type": "code",
        "outputId": "e00f1290-ebd7-49ca-f669-f9a09b4e4574",
        "colab": {
          "base_uri": "https://localhost:8080/",
          "height": 121
        }
      },
      "source": [
        "drive.mount('/content/gdrive')"
      ],
      "execution_count": 3,
      "outputs": [
        {
          "output_type": "stream",
          "text": [
            "Go to this URL in a browser: https://accounts.google.com/o/oauth2/auth?client_id=947318989803-6bn6qk8qdgf4n4g3pfee6491hc0brc4i.apps.googleusercontent.com&redirect_uri=urn%3aietf%3awg%3aoauth%3a2.0%3aoob&response_type=code&scope=email%20https%3a%2f%2fwww.googleapis.com%2fauth%2fdocs.test%20https%3a%2f%2fwww.googleapis.com%2fauth%2fdrive%20https%3a%2f%2fwww.googleapis.com%2fauth%2fdrive.photos.readonly%20https%3a%2f%2fwww.googleapis.com%2fauth%2fpeopleapi.readonly\n",
            "\n",
            "Enter your authorization code:\n",
            "··········\n",
            "Mounted at /content/gdrive\n"
          ],
          "name": "stdout"
        }
      ]
    },
    {
      "cell_type": "code",
      "metadata": {
        "id": "gK5OjKxSHEHO",
        "colab_type": "code",
        "outputId": "86c40e72-10c3-48a3-cb7e-60c999a8fb1c",
        "colab": {
          "base_uri": "https://localhost:8080/",
          "height": 34
        }
      },
      "source": [
        "cd /content/gdrive/My Drive/"
      ],
      "execution_count": 5,
      "outputs": [
        {
          "output_type": "stream",
          "text": [
            "/content/gdrive/My Drive\n"
          ],
          "name": "stdout"
        }
      ]
    },
    {
      "cell_type": "code",
      "metadata": {
        "id": "5-ilP-6aHGkB",
        "colab_type": "code",
        "colab": {}
      },
      "source": [
        "# Import the dataset\n",
        "drop = ['kVAR', 'kW', 'kWh Value','kVARh Value','kWh Actual', 'Max kW','Period', 'No Of Meters', 'kWh Estimate', 'TOU Demand kW', 'TOU Demand kVA', 'PF', 'CO2']\n",
        "\n",
        "dataset2018 = read_csv(r'2018_Armidale.csv', header = 0).drop(columns = drop).rename(columns = {\"Minimum Temperature\": \"Temp\"}).dropna() # Take into account DST\n",
        "dataset2019 = read_csv(r'2019_Armidale.csv', header = 0).drop(columns = drop).rename(columns = {\"Minimum Temperature\": \"Temp\"}).dropna()\n",
        "dataset2017 = read_csv(r'2017_Armidale.csv', header = 0).drop(columns = drop).rename(columns = {\"Minimum Temperature\": \"Temp\"}).dropna()\n",
        "datasetAll = pd.concat([dataset2017, dataset2018, dataset2019], axis=0, sort = False, ignore_index= True)\n",
        "\n",
        "# Scalers for datasetAll.\n",
        "s_demand = MinMaxScaler()\n",
        "datasetAll['Demand kVA_s'] =  s_demand.fit_transform(datasetAll[['Demand kVA']])\n",
        "datasetAll = datasetAll[['Demand kVA_s']].dropna()\n"
      ],
      "execution_count": 0,
      "outputs": []
    },
    {
      "cell_type": "code",
      "metadata": {
        "id": "CQ13GCXyE08Z",
        "colab_type": "code",
        "colab": {}
      },
      "source": [
        "datasetAll\n",
        "su17 = datasetAll.loc[0:5663]\n",
        "au17 = datasetAll.loc[5664:14495]\n",
        "wi17 = datasetAll.loc[14496:23327]\n",
        "sp17 = datasetAll.loc[23328:32059]\n",
        "su18 = datasetAll.loc[32060:40699]\n",
        "au18 = datasetAll.loc[40700:49531]\n",
        "wi18 = datasetAll.loc[49532:58363]\n",
        "sp18 = datasetAll.loc[58364:67095]\n",
        "su19 = datasetAll.loc[67096:75735]\n",
        "au19 = datasetAll.loc[75736: 84567]\n",
        "wi19 = datasetAll.loc[84568: 93399]\n",
        "sp19 = datasetAll.loc[93400:102131]\n",
        "su20 = datasetAll.loc[102132:]"
      ],
      "execution_count": 0,
      "outputs": []
    },
    {
      "cell_type": "code",
      "metadata": {
        "id": "2iT8lsHtHl8r",
        "colab_type": "code",
        "outputId": "640434f5-a73b-437c-b80c-6f65fe6b6919",
        "colab": {
          "base_uri": "https://localhost:8080/",
          "height": 34
        }
      },
      "source": [
        "def split_dataset(dataset, fraction = 0.7):\n",
        "  ## Split the dataset into train and test set ##\n",
        "  train_size = int(len(dataset) * fraction)\n",
        "  test_size = len(dataset) - train_size\n",
        "  train_data, test_data = dataset[0:train_size,:], dataset[train_size:len(dataset),:]\n",
        "  return train_data, test_data\n",
        "\n",
        "def split_sequence(sequence, n_steps_in, n_steps_out):\n",
        "\t## Split a univariate sequence into samples ##\n",
        "\tX, y = list(), list()\n",
        "\tfor i in range(len(sequence)):\n",
        "\t\t# find the end of this pattern\n",
        "\t\tend_ix = i + n_steps_in\n",
        "\t\tout_end_ix = end_ix + n_steps_out\n",
        "\t\t# check if we are beyond the sequence\n",
        "\t\tif out_end_ix > len(sequence):\n",
        "\t\t\tbreak\n",
        "\t\t# gather input and output parts of the pattern\n",
        "\t\tseq_x, seq_y = sequence[i:end_ix], sequence[end_ix:out_end_ix]\n",
        "\t\tX.append(seq_x)\n",
        "\t\ty.append(seq_y)\n",
        "\treturn array(X), array(y)\n",
        " \n",
        "import tensorflow\n",
        "from tensorflow.keras.models import Sequential\n",
        "from tensorflow.keras.layers import LSTM\n",
        "from tensorflow.keras.layers import Dense, Dropout\n",
        "from tensorflow.keras.callbacks import EarlyStopping\n",
        "from tensorflow.keras import *\n",
        "print(tensorflow.__version__)"
      ],
      "execution_count": 8,
      "outputs": [
        {
          "output_type": "stream",
          "text": [
            "2.1.0\n"
          ],
          "name": "stdout"
        }
      ]
    },
    {
      "cell_type": "code",
      "metadata": {
        "id": "LnSv1Nq3J0cw",
        "colab_type": "code",
        "colab": {}
      },
      "source": [
        "n_steps_in= 60\n",
        "n_steps_out = 60\n",
        "\n",
        "# split dataset into train and test set\n",
        "train, test = split_dataset(sp17.append(sp18, ignore_index= True).values,fraction =1)#.append(su19, ignore_index = False).values, fraction = 1)#\"\"\".values\"\"\"\n",
        "# split into samples\n",
        "X_train, y_train = split_sequence(train, n_steps_in, n_steps_out)\n",
        "X_test, y_test = split_sequence(sp19.values, n_steps_in, n_steps_out)\n"
      ],
      "execution_count": 0,
      "outputs": []
    },
    {
      "cell_type": "code",
      "metadata": {
        "id": "OyO6X51fJnDN",
        "colab_type": "code",
        "outputId": "cf9a029f-3431-47f9-9bdc-753476b31250",
        "colab": {
          "base_uri": "https://localhost:8080/",
          "height": 1000
        }
      },
      "source": [
        "def build_model(X_train, y_train, X_test, y_test, n_steps_in, n_steps_out, epochs, verbose): \n",
        "  ## Build an LSTM model ##\n",
        "    # Define model\n",
        "    model = Sequential()\n",
        "    model.add(LSTM(100, activation='relu', return_sequences= 1, input_shape=(n_steps_in, X_train.shape[2])))\n",
        "    model.add(Dropout(0.2))\n",
        "    model.add(LSTM(20, return_sequences= 0))\n",
        "    model.add(Dropout(0.5))\n",
        "    #model.add(LSTM(20, return_sequences = 0))\n",
        "   \n",
        "   \n",
        "    #model.add(Dense(600))\n",
        "    #model.add(Dense({{choice([120, 256, 512, 1024])}}))\n",
        "    #model.add(LSTM(50, activation='relu', return_sequences= False))\n",
        "    #model.add(Dropout(0.0001))\n",
        "    #model.add(LSTM(100, activation='relu', return_sequences= False))\n",
        "    #model.add(Dense(5))\n",
        "    #model.add(LSTM(26, activation= 'relu'))\n",
        "    #model.add(Dropout(0.01))\n",
        "    model.add(Dense(n_steps_out)) \n",
        "    \n",
        "    # Train Model\n",
        "    model.compile(optimizer='adam', loss='mse')\n",
        "    history = model.fit(X_train, y_train, epochs=epochs, verbose=verbose, validation_split= 0.2, shuffle = False ,callbacks = [EarlyStopping(patience = 10)])\n",
        "    \n",
        "    # Visualise Epoch\n",
        "    plt.plot(history.history['loss'], label='loss')\n",
        "    plt.plot(history.history['val_loss'], label='val_loss')\n",
        "    plt.legend()\n",
        "\n",
        "    return model, history\n",
        "\n",
        "model, history = build_model(X_train, y_train, X_test, y_test, n_steps_in = n_steps_in, n_steps_out = n_steps_out, epochs = 100, verbose = 2)"
      ],
      "execution_count": 28,
      "outputs": [
        {
          "output_type": "stream",
          "text": [
            "Train on 13876 samples, validate on 3469 samples\n",
            "Epoch 1/100\n",
            "13876/13876 - 35s - loss: 0.0553 - val_loss: 0.0111\n",
            "Epoch 2/100\n",
            "13876/13876 - 31s - loss: 0.0227 - val_loss: 0.0112\n",
            "Epoch 3/100\n",
            "13876/13876 - 31s - loss: 0.0204 - val_loss: 0.0111\n",
            "Epoch 4/100\n",
            "13876/13876 - 31s - loss: 0.0200 - val_loss: 0.0112\n",
            "Epoch 5/100\n",
            "13876/13876 - 31s - loss: 0.0192 - val_loss: 0.0110\n",
            "Epoch 6/100\n",
            "13876/13876 - 31s - loss: 0.0184 - val_loss: 0.0107\n",
            "Epoch 7/100\n",
            "13876/13876 - 31s - loss: 0.0173 - val_loss: 0.0106\n",
            "Epoch 8/100\n",
            "13876/13876 - 37s - loss: 0.0166 - val_loss: 0.0106\n",
            "Epoch 9/100\n",
            "13876/13876 - 31s - loss: 0.0158 - val_loss: 0.0107\n",
            "Epoch 10/100\n",
            "13876/13876 - 32s - loss: 0.0155 - val_loss: 0.0104\n",
            "Epoch 11/100\n",
            "13876/13876 - 32s - loss: 0.0156 - val_loss: 0.0106\n",
            "Epoch 12/100\n",
            "13876/13876 - 30s - loss: 0.0151 - val_loss: 0.0106\n",
            "Epoch 13/100\n",
            "13876/13876 - 30s - loss: 0.0151 - val_loss: 0.0106\n",
            "Epoch 14/100\n",
            "13876/13876 - 30s - loss: 0.0149 - val_loss: 0.0106\n",
            "Epoch 15/100\n",
            "13876/13876 - 30s - loss: 0.0148 - val_loss: 0.0105\n",
            "Epoch 16/100\n",
            "13876/13876 - 30s - loss: 0.0148 - val_loss: 0.0105\n",
            "Epoch 17/100\n",
            "13876/13876 - 30s - loss: 0.0147 - val_loss: 0.0104\n",
            "Epoch 18/100\n",
            "13876/13876 - 30s - loss: 0.0148 - val_loss: 0.0104\n",
            "Epoch 19/100\n",
            "13876/13876 - 30s - loss: 0.0150 - val_loss: 0.0104\n",
            "Epoch 20/100\n",
            "13876/13876 - 31s - loss: 0.0148 - val_loss: 0.0104\n",
            "Epoch 21/100\n",
            "13876/13876 - 30s - loss: 0.0147 - val_loss: 0.0104\n",
            "Epoch 22/100\n",
            "13876/13876 - 30s - loss: 0.0147 - val_loss: 0.0105\n",
            "Epoch 23/100\n",
            "13876/13876 - 30s - loss: 0.0147 - val_loss: 0.0104\n",
            "Epoch 24/100\n",
            "13876/13876 - 30s - loss: 0.0147 - val_loss: 0.0105\n",
            "Epoch 25/100\n",
            "13876/13876 - 31s - loss: 0.0146 - val_loss: 0.0105\n",
            "Epoch 26/100\n",
            "13876/13876 - 31s - loss: 0.0146 - val_loss: 0.0104\n",
            "Epoch 27/100\n",
            "13876/13876 - 31s - loss: 0.0146 - val_loss: 0.0104\n",
            "Epoch 28/100\n",
            "13876/13876 - 31s - loss: 0.0146 - val_loss: 0.0104\n",
            "Epoch 29/100\n",
            "13876/13876 - 31s - loss: 0.0146 - val_loss: 0.0104\n",
            "Epoch 30/100\n",
            "13876/13876 - 32s - loss: 0.0145 - val_loss: 0.0105\n",
            "Epoch 31/100\n",
            "13876/13876 - 31s - loss: 0.0144 - val_loss: 0.0103\n",
            "Epoch 32/100\n",
            "13876/13876 - 31s - loss: 0.0144 - val_loss: 0.0102\n",
            "Epoch 33/100\n",
            "13876/13876 - 31s - loss: 0.0146 - val_loss: 0.0104\n",
            "Epoch 34/100\n",
            "13876/13876 - 31s - loss: 0.0144 - val_loss: 0.0104\n",
            "Epoch 35/100\n",
            "13876/13876 - 31s - loss: 0.0145 - val_loss: 0.0103\n",
            "Epoch 36/100\n",
            "13876/13876 - 31s - loss: 0.0145 - val_loss: 0.0104\n",
            "Epoch 37/100\n",
            "13876/13876 - 31s - loss: 0.0146 - val_loss: 0.0108\n",
            "Epoch 38/100\n",
            "13876/13876 - 32s - loss: 0.0144 - val_loss: 0.0105\n",
            "Epoch 39/100\n",
            "13876/13876 - 35s - loss: 0.0142 - val_loss: 0.0105\n",
            "Epoch 40/100\n",
            "13876/13876 - 32s - loss: 0.0140 - val_loss: 0.0103\n",
            "Epoch 41/100\n",
            "13876/13876 - 31s - loss: 0.0136 - val_loss: 0.0102\n",
            "Epoch 42/100\n",
            "13876/13876 - 32s - loss: 0.0136 - val_loss: 0.0091\n",
            "Epoch 43/100\n",
            "13876/13876 - 31s - loss: 0.0131 - val_loss: 0.0096\n",
            "Epoch 44/100\n",
            "13876/13876 - 31s - loss: 0.0128 - val_loss: 0.0088\n",
            "Epoch 45/100\n",
            "13876/13876 - 31s - loss: 0.0126 - val_loss: 0.0082\n",
            "Epoch 46/100\n",
            "13876/13876 - 32s - loss: 0.0125 - val_loss: 0.0085\n",
            "Epoch 47/100\n",
            "13876/13876 - 32s - loss: 0.0132 - val_loss: 0.0089\n",
            "Epoch 48/100\n",
            "13876/13876 - 32s - loss: 0.0119 - val_loss: 0.0085\n",
            "Epoch 49/100\n",
            "13876/13876 - 32s - loss: 0.0118 - val_loss: 0.0084\n",
            "Epoch 50/100\n",
            "13876/13876 - 32s - loss: 0.0122 - val_loss: 0.0101\n",
            "Epoch 51/100\n",
            "13876/13876 - 31s - loss: 0.0124 - val_loss: 0.0085\n",
            "Epoch 52/100\n",
            "13876/13876 - 32s - loss: 0.0120 - val_loss: 0.0100\n",
            "Epoch 53/100\n",
            "13876/13876 - 32s - loss: 0.0137 - val_loss: 0.0098\n",
            "Epoch 54/100\n",
            "13876/13876 - 31s - loss: 0.0120 - val_loss: 0.0097\n",
            "Epoch 55/100\n",
            "13876/13876 - 31s - loss: 0.0122 - val_loss: 0.0100\n"
          ],
          "name": "stdout"
        },
        {
          "output_type": "display_data",
          "data": {
            "image/png": "[encoded data removed]",
            "text/plain": [
              "<Figure size 720x360 with 1 Axes>"
            ]
          },
          "metadata": {
            "tags": []
          }
        }
      ]
    },
    {
      "cell_type": "code",
      "metadata": {
        "id": "E_oZtB9iM6Ks",
        "colab_type": "code",
        "outputId": "4ff9c3cf-3115-4c34-8236-3f7e5c5cf19f",
        "colab": {
          "base_uri": "https://localhost:8080/",
          "height": 386
        }
      },
      "source": [
        "def RMSE(model, X_test, y_test, n_steps_out, scaler):\n",
        "  y_hat = scaler.inverse_transform(model.predict(X_test))\n",
        "  RMSE = np.sqrt(mean_squared_error(scaler.inverse_transform(y_test.reshape(y_hat.shape[0], y_hat.shape[1])), y_hat, multioutput= 'raw_values'))\n",
        "  mean_RMSE = sum(RMSE)/ n_steps_out  \n",
        "  return y_hat, RMSE, mean_RMSE\n",
        "y_hat_train, train_RMSE, train_mean_RMSE =RMSE(model, X_train, y_train, n_steps_out, s_demand)\n",
        "y_hat,RMSE, mean_RMSE = RMSE(model, X_test, y_test, n_steps_out, s_demand)\n",
        "print(\"Train\")\n",
        "print(train_RMSE, train_mean_RMSE)\n",
        "print(\"Test\")\n",
        "print(RMSE, mean_RMSE)"
      ],
      "execution_count": 29,
      "outputs": [
        {
          "output_type": "stream",
          "text": [
            "Train\n",
            "[22.29562119 23.87915308 25.09003176 26.09014727 27.01322837 27.86310065\n",
            " 28.64089719 29.40779882 30.14767926 30.84988912 31.49293338 32.07869936\n",
            " 32.60188427 33.10803138 33.59503569 34.04235549 34.49735903 34.95794222\n",
            " 35.40139268 35.84823461 36.29393516 36.70486452 37.10701141 37.52604455\n",
            " 37.89661179 38.1828857  38.39868539 38.54698451 38.63433253 38.7389384\n",
            " 38.88470414 39.04105286 39.17503609 39.27949156 39.317614   39.25011606\n",
            " 39.16845849 39.18894317 39.32849964 39.54724302 39.76299763 39.97479403\n",
            " 40.15935567 40.33137171 40.48329875 40.63734298 40.78866354 40.93621615\n",
            " 41.04037144 41.16171397 41.26453625 41.31074133 41.36459486 41.40200108\n",
            " 41.44992679 41.51727428 41.58554839 41.65580761 41.71122094 41.7718478 ] 36.65704154985959\n",
            "Test\n",
            "[26.29817982 27.44840441 28.29396899 28.94780434 29.63025789 30.33267071\n",
            " 30.94078419 31.58150406 32.14227816 32.65045345 33.07730453 33.45633597\n",
            " 33.80653262 34.15509493 34.4552637  34.72571603 35.0060224  35.25674112\n",
            " 35.46842578 35.70919477 35.91793225 36.05746243 36.1785225  36.26851458\n",
            " 36.38382031 36.45626816 36.54563434 36.56004606 36.5629811  36.50269118\n",
            " 36.50438665 36.52457416 36.54545904 36.52502859 36.42204165 36.21503424\n",
            " 36.01232491 35.86479953 35.85823552 35.8818095  35.92626487 35.94138894\n",
            " 35.93115127 35.89471743 35.86897204 35.84713516 35.84230605 35.84391764\n",
            " 35.84813198 35.89614761 35.91219114 35.8860292  35.84276007 35.78630195\n",
            " 35.7610094  35.760878   35.77061495 35.78083255 35.79271547 35.80714099] 34.768518521579985\n"
          ],
          "name": "stdout"
        }
      ]
    },
    {
      "cell_type": "code",
      "metadata": {
        "id": "9TCUhcA37Ui3",
        "colab_type": "code",
        "outputId": "c09bae6e-88f3-4ec5-caf9-aba10941f002",
        "colab": {
          "base_uri": "https://localhost:8080/",
          "height": 320
        }
      },
      "source": [
        "import random\n",
        "def graphing(y_hat, y_test, scaler):\n",
        "  i = random.randint(0, y_hat.shape[0])\n",
        "  plt.plot(y_hat.reshape(y_hat.shape[0],y_hat.shape[1])[i], label = \"Prediction\")\n",
        "  plt.plot(scaler.inverse_transform(y_test.reshape(y_hat.shape[0], y_hat.shape[1]))[i], label = \"Truth\")\n",
        "  plt.legend()\n",
        "  plt.show()\n",
        "\n",
        "graphing(y_hat, y_test, s_demand)\n",
        "  "
      ],
      "execution_count": 25,
      "outputs": [
        {
          "output_type": "display_data",
          "data": {
            "image/png": "[encoded data removed]",
            "text/plain": [
              "<Figure size 720x360 with 1 Axes>"
            ]
          },
          "metadata": {
            "tags": []
          }
        }
      ]
    }
  ]
}