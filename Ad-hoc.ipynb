{
 "cells": [
  {
   "cell_type": "code",
   "execution_count": 42,
   "metadata": {},
   "outputs": [],
   "source": [
    "def adhoc(region = 'NSW1'):\n",
    "    import datetime \n",
    "    import pandas as pd\n",
    "    import requests\n",
    "        \n",
    "    # Request & Scrape\n",
    "    s = requests.Session()\n",
    "\n",
    "    headers = {\n",
    "        \"User-Agent\": \"Mozilla/5.0 (Windows NT 6.1; Win64; x64) AppleWebKit/537.36 (KHTML, like Gecko) Chrome/68.0.3440.106 Safari/537.36\", \n",
    "        \"Origin\": \"https://www.aemo.com.au\",\n",
    "        \"Content-Type\": \"application/json\",\n",
    "        \"Host\": \"www.aemo.com.au\",\n",
    "        \"Origin\": \"https://www.aemo.com.au\",\n",
    "        \"Referer\": \"https://www.aemo.com.au/aemo/apps/visualisations/elec-nem-priceanddemand.html\",\n",
    "        \"Sec-Fetch-Mode\": \"cors\",\n",
    "        \"Sec-Fetch-Site\": \"same-origin\"\n",
    "    }\n",
    "\n",
    "    s.headers = headers\n",
    "\n",
    "    json = {\"timeScale\": [\"30MIN\"]}\n",
    "\n",
    "    url = \"https://www.aemo.com.au/aemo/apps/api/report/5MIN\"\n",
    "    response = s.post(url, json=json)\n",
    "\n",
    "    results = response.json()\n",
    "    history = results['5MIN']\n",
    "\n",
    "\n",
    "    # Make dataframe\n",
    "    data = [row.values() for row in history]\n",
    "    columns = history[0].keys()\n",
    "    df = pd.DataFrame(data, columns=columns)\n",
    "    df.index = df['SETTLEMENTDATE']\n",
    "    df = df[df['REGION']== region]\n",
    "    df = df.drop(columns = ['REGIONID', 'REGION','SETTLEMENTDATE', 'REGION'])\n",
    "    df.to_csv(r'./{0}{1}.csv'.format(region, datetime.datetime.now()))\n",
    "    print('Data archieved.')\n"
   ]
  },
  {
   "cell_type": "code",
   "execution_count": 43,
   "metadata": {},
   "outputs": [
    {
     "name": "stdout",
     "output_type": "stream",
     "text": [
      "Data archieved.\n"
     ]
    }
   ],
   "source": [
    "####MAIN#####\n",
    "adhoc()"
   ]
  }
 ],
 "metadata": {
  "kernelspec": {
   "display_name": "Python 3",
   "language": "python",
   "name": "python3"
  },
  "language_info": {
   "codemirror_mode": {
    "name": "ipython",
    "version": 3
   },
   "file_extension": ".py",
   "mimetype": "text/x-python",
   "name": "python",
   "nbconvert_exporter": "python",
   "pygments_lexer": "ipython3",
   "version": "3.7.3"
  }
 },
 "nbformat": 4,
 "nbformat_minor": 2
}
