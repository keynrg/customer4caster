{
  "nbformat": 4,
  "nbformat_minor": 0,
  "metadata": {
    "colab": {
      "name": "Armidale_Summer_60steps_Uni.ipynb",
      "provenance": [],
      "collapsed_sections": [],
      "machine_shape": "hm"
    },
    "kernelspec": {
      "name": "python3",
      "display_name": "Python 3"
    }
  },
  "cells": [
    {
      "cell_type": "markdown",
      "metadata": {
        "id": "rDh9dnfr2FUy",
        "colab_type": "text"
      },
      "source": [
        "<a href=\"https://colab.research.google.com/github/googlecolab/colabtools/blob/master/notebooks/colab-github-demo.ipynb\">\n",
        "  <img src=\"https://colab.research.google.com/assets/colab-badge.svg\" alt=\"Open In Colab\"/>\n",
        "</a>\n"
      ]
    },
    {
      "cell_type": "code",
      "metadata": {
        "id": "RusDx9RfG2tl",
        "colab_type": "code",
        "colab": {}
      },
      "source": [
        "# Run this before everything\n",
        "!pip install --upgrade --q tensorflow"
      ],
      "execution_count": 0,
      "outputs": []
    },
    {
      "cell_type": "code",
      "metadata": {
        "id": "9chR0vj1G_vn",
        "colab_type": "code",
        "colab": {}
      },
      "source": [
        "from google.colab import drive\n",
        "import pandas as pd\n",
        "from pandas import read_csv, to_datetime\n",
        "import numpy as np\n",
        "from numpy import array,hstack\n",
        "import matplotlib.pyplot as plt\n",
        "from sklearn.preprocessing import MinMaxScaler\n",
        "plt.rcParams['figure.figsize'] = 10, 5\n",
        "import seaborn as sns\n",
        "from sklearn.metrics import mean_squared_error\n",
        "from math import sqrt\n",
        "from datetime import datetime\n"
      ],
      "execution_count": 0,
      "outputs": []
    },
    {
      "cell_type": "code",
      "metadata": {
        "id": "nLrIkJ1QHB2-",
        "colab_type": "code",
        "colab": {}
      },
      "source": [
        "drive.mount('/content/gdrive')"
      ],
      "execution_count": 0,
      "outputs": []
    },
    {
      "cell_type": "code",
      "metadata": {
        "id": "gK5OjKxSHEHO",
        "colab_type": "code",
        "outputId": "36b23aeb-7318-4540-ed86-4761dbe557ee",
        "colab": {
          "base_uri": "https://localhost:8080/",
          "height": 34
        }
      },
      "source": [
        "cd /content/gdrive/My Drive/"
      ],
      "execution_count": 4,
      "outputs": [
        {
          "output_type": "stream",
          "text": [
            "/content/gdrive/My Drive\n"
          ],
          "name": "stdout"
        }
      ]
    },
    {
      "cell_type": "code",
      "metadata": {
        "id": "5-ilP-6aHGkB",
        "colab_type": "code",
        "colab": {}
      },
      "source": [
        "# Import the dataset\n",
        "drop = ['kVAR', 'kW', 'kWh Value','kVARh Value','kWh Actual', 'Max kW','Period', 'No Of Meters', 'kWh Estimate', 'TOU Demand kW', 'TOU Demand kVA', 'PF', 'CO2']\n",
        "\n",
        "dataset2018 = read_csv(r'2018_Armidale.csv', header = 0).drop(columns = drop).rename(columns = {\"Minimum Temperature\": \"Temp\"}).dropna() # Take into account DST\n",
        "dataset2019 = read_csv(r'2019_Armidale.csv', header = 0).drop(columns = drop).rename(columns = {\"Minimum Temperature\": \"Temp\"}).dropna()\n",
        "dataset2017 = read_csv(r'2017_Armidale.csv', header = 0).drop(columns = drop).rename(columns = {\"Minimum Temperature\": \"Temp\"}).dropna()\n",
        "datasetAll = pd.concat([dataset2017, dataset2018, dataset2019], axis=0, sort = False, ignore_index= True)\n",
        "\n",
        "# Scalers for datasetAll.\n",
        "s_demand = MinMaxScaler()\n",
        "datasetAll['Demand kVA_s'] =  s_demand.fit_transform(datasetAll[['Demand kVA']])\n",
        "datasetAll = datasetAll[['Demand kVA_s']].dropna()\n"
      ],
      "execution_count": 0,
      "outputs": []
    },
    {
      "cell_type": "code",
      "metadata": {
        "id": "CQ13GCXyE08Z",
        "colab_type": "code",
        "colab": {}
      },
      "source": [
        "datasetAll\n",
        "su17 = datasetAll.loc[0:5663]\n",
        "au17 = datasetAll.loc[5664:14495]\n",
        "wi17 = datasetAll.loc[14496:23327]\n",
        "sp17 = datasetAll.loc[23328:32059]\n",
        "su18 = datasetAll.loc[32060:40699]\n",
        "au18 = datasetAll.loc[40700:49531]\n",
        "wi18 = datasetAll.loc[49532:58363]\n",
        "sp18 = datasetAll.loc[58364:67095]\n",
        "su19 = datasetAll.loc[67096:75735]\n",
        "au19 = datasetAll.loc[75736: 84567]\n",
        "wi19 = datasetAll.loc[84568: 93399]\n",
        "sp19 = datasetAll.loc[93400:102131]\n",
        "su20 = datasetAll.loc[102132:]"
      ],
      "execution_count": 0,
      "outputs": []
    },
    {
      "cell_type": "code",
      "metadata": {
        "id": "2iT8lsHtHl8r",
        "colab_type": "code",
        "outputId": "72730126-ff57-4a62-8191-b3ed2cf9d4b5",
        "colab": {
          "base_uri": "https://localhost:8080/",
          "height": 34
        }
      },
      "source": [
        "def split_dataset(dataset, fraction = 0.7):\n",
        "  ## Split the dataset into train and test set ##\n",
        "  train_size = int(len(dataset) * fraction)\n",
        "  test_size = len(dataset) - train_size\n",
        "  train_data, test_data = dataset[0:train_size,:], dataset[train_size:len(dataset),:]\n",
        "  return train_data, test_data\n",
        "\n",
        "def split_sequence(sequence, n_steps_in, n_steps_out):\n",
        "\t## Split a univariate sequence into samples ##\n",
        "\tX, y = list(), list()\n",
        "\tfor i in range(len(sequence)):\n",
        "\t\t# find the end of this pattern\n",
        "\t\tend_ix = i + n_steps_in\n",
        "\t\tout_end_ix = end_ix + n_steps_out\n",
        "\t\t# check if we are beyond the sequence\n",
        "\t\tif out_end_ix > len(sequence):\n",
        "\t\t\tbreak\n",
        "\t\t# gather input and output parts of the pattern\n",
        "\t\tseq_x, seq_y = sequence[i:end_ix], sequence[end_ix:out_end_ix]\n",
        "\t\tX.append(seq_x)\n",
        "\t\ty.append(seq_y)\n",
        "\treturn array(X), array(y)\n",
        " \n",
        "import tensorflow\n",
        "from tensorflow.keras.models import Sequential\n",
        "from tensorflow.keras.layers import LSTM\n",
        "from tensorflow.keras.layers import Dense, Dropout\n",
        "from tensorflow.keras.callbacks import EarlyStopping\n",
        "from tensorflow.keras import *\n",
        "print(tensorflow.__version__)"
      ],
      "execution_count": 7,
      "outputs": [
        {
          "output_type": "stream",
          "text": [
            "2.1.0\n"
          ],
          "name": "stdout"
        }
      ]
    },
    {
      "cell_type": "code",
      "metadata": {
        "id": "LnSv1Nq3J0cw",
        "colab_type": "code",
        "colab": {}
      },
      "source": [
        "n_steps_in= 60\n",
        "n_steps_out = 60\n",
        "\n",
        "# split dataset into train and test set\n",
        "train, test = split_dataset(su17.append(su18, ignore_index= True).append(su19, ignore_index = True).values,fraction =1)#.append(su19, ignore_index = False).values, fraction = 1)#\"\"\".values\"\"\"\n",
        "# split into samples\n",
        "X_train, y_train = split_sequence(train, n_steps_in, n_steps_out)\n",
        "X_test, y_test = split_sequence(su20.values, n_steps_in, n_steps_out)"
      ],
      "execution_count": 0,
      "outputs": []
    },
    {
      "cell_type": "code",
      "metadata": {
        "id": "OyO6X51fJnDN",
        "colab_type": "code",
        "colab": {}
      },
      "source": [
        "def build_model(X_train, y_train, X_test, y_test, n_steps_in, n_steps_out, epochs, verbose): \n",
        "  ## Build an LSTM model ##\n",
        "    # Define model\n",
        "    model = Sequential()\n",
        "    model.add(LSTM(20, activation='relu', return_sequences= 1, input_shape=(n_steps_in, X_train.shape[2])))\n",
        "    model.add(Dropout(0.2))\n",
        "    model.add(LSTM(20, return_sequences= 1))\n",
        "    model.add(Dropout(0.5))\n",
        "    model.add(LSTM(20, return_sequences = 0))\n",
        "    #model.add(Dense(600))\n",
        "    #model.add(Dense({{choice([120, 256, 512, 1024])}}))\n",
        "    #model.add(LSTM(50, activation='relu', return_sequences= False))\n",
        "    #model.add(Dropout(0.0001))\n",
        "    #model.add(LSTM(100, activation='relu', return_sequences= False))\n",
        "    #model.add(Dense(5))\n",
        "    #model.add(LSTM(26, activation= 'relu'))\n",
        "    #model.add(Dropout(0.01))\n",
        "    model.add(Dense(n_steps_out)) \n",
        "    \n",
        "    # Train Model\n",
        "    model.compile(optimizer='adam', loss='mse')\n",
        "    history = model.fit(X_train, y_train, epochs=epochs, verbose=verbose, validation_split= 0.2, shuffle = False ,callbacks = [EarlyStopping(patience = 10)])\n",
        "    \n",
        "    # Visualise Epoch\n",
        "    plt.plot(history.history['loss'], label='loss')\n",
        "    plt.plot(history.history['val_loss'], label='val_loss')\n",
        "    plt.legend()\n",
        "\n",
        "    return model, history\n",
        "\n",
        "model, history = build_model(X_train, y_train, X_test, y_test, n_steps_in = n_steps_in, n_steps_out = n_steps_out, epochs = 100, verbose = 2)"
      ],
      "execution_count": 0,
      "outputs": []
    },
    {
      "cell_type": "code",
      "metadata": {
        "id": "E_oZtB9iM6Ks",
        "colab_type": "code",
        "outputId": "97eae4bb-0684-47e2-fd0f-33569ea4079a",
        "colab": {
          "base_uri": "https://localhost:8080/",
          "height": 404
        }
      },
      "source": [
        "def RMSE(model, X_test, y_test, n_steps_out, scaler):\n",
        "  y_hat = scaler.inverse_transform(model.predict(X_test))\n",
        "  RMSE = np.sqrt(mean_squared_error(scaler.inverse_transform(y_test.reshape(y_hat.shape[0], y_hat.shape[1])), y_hat, multioutput= 'raw_values'))\n",
        "  mean_RMSE = sum(RMSE)/ n_steps_out  \n",
        "  return y_hat, RMSE, mean_RMSE\n",
        "y_hat_train, train_RMSE, train_mean_RMSE =RMSE(model, X_train, y_train, n_steps_out, s_demand)\n",
        "y_hat,RMSE, mean_RMSE = RMSE(model, X_test, y_test, n_steps_out, s_demand)\n",
        "print(\"Train\")\n",
        "print(train_RMSE, train_mean_RMSE)\n",
        "print(\"Test\")\n",
        "print(RMSE, mean_RMSE)"
      ],
      "execution_count": 11,
      "outputs": [
        {
          "output_type": "stream",
          "text": [
            "Train\n",
            "[16.46753899 17.58389105 18.5251125  19.28406774 19.94371367 20.64283363\n",
            " 21.3067537  21.96875753 22.63181348 23.07821546 23.53557572 23.87493532\n",
            " 24.08009721 24.25455875 24.51057008 24.72468968 24.92550161 25.02700778\n",
            " 25.39558928 25.49718788 25.59324351 25.68362912 25.80797248 25.78916139\n",
            " 25.83427482 25.74155149 25.90314448 25.68942257 25.78209431 25.59613269\n",
            " 25.5906336  25.56672505 25.5662142  25.36991056 25.34094771 25.42478208\n",
            " 25.00853526 25.23399133 25.12910105 25.06169817 24.88289521 24.81124964\n",
            " 24.75262869 24.74139037 24.59388339 24.78526577 24.596149   24.43045125\n",
            " 24.55031236 24.36780526 24.45997952 24.38217431 24.5471414  24.39969039\n",
            " 24.56470639 24.59406715 24.61380468 24.92074995 24.84439686 24.87491525] 24.1780872292923\n",
            "Test\n",
            "[12.30878614 12.96161794 13.46768356 13.8209552  14.41526957 14.76839488\n",
            " 15.24885737 15.70173479 15.97977941 16.49170216 16.65760783 16.94289158\n",
            " 17.2451271  17.46873908 17.58294587 17.71719093 17.862136   18.15522637\n",
            " 18.1262987  18.3496976  18.5371276  18.65701156 18.73839261 18.99483223\n",
            " 18.99320797 19.1460755  18.9634927  19.24532546 19.04542081 19.17554955\n",
            " 19.11163613 19.07534097 18.87028817 18.83010778 18.76003046 18.7011224\n",
            " 18.80159839 18.62920865 18.57020134 18.57488861 18.60869086 18.62628438\n",
            " 18.58429962 18.59153742 18.62558719 18.64421206 18.60601084 18.5730512\n",
            " 18.62426593 18.59555674 18.54902576 18.55746574 18.54665211 18.34980944\n",
            " 18.33646296 18.28952532 18.13759675 18.3441356  18.23906411 18.15686234] 17.804659955506036\n"
          ],
          "name": "stdout"
        }
      ]
    },
    {
      "cell_type": "code",
      "metadata": {
        "id": "9TCUhcA37Ui3",
        "colab_type": "code",
        "outputId": "8ce81ad4-b903-4b3f-b774-e62e282ff602",
        "colab": {
          "base_uri": "https://localhost:8080/",
          "height": 320
        }
      },
      "source": [
        "import random\n",
        "def graphing(y_hat, y_test, scaler):\n",
        "  i = random.randint(0, y_hat.shape[0])\n",
        "  plt.plot(y_hat.reshape(y_hat.shape[0],y_hat.shape[1])[i], label = \"Prediction\")\n",
        "  plt.plot(scaler.inverse_transform(y_test.reshape(y_hat.shape[0], y_hat.shape[1]))[i], label = \"Truth\")\n",
        "  plt.legend()\n",
        "  plt.show()\n",
        "\n",
        "graphing(y_hat, y_test, s_demand)\n",
        "  "
      ],
      "execution_count": 44,
      "outputs": [
        {
          "output_type": "display_data",
          "data": {
            "image/png": "[encoded data removed]",
            "text/plain": [
              "<Figure size 720x360 with 1 Axes>"
            ]
          },
          "metadata": {
            "tags": []
          }
        }
      ]
    }
  ]
}