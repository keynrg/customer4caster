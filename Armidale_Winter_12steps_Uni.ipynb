{
  "nbformat": 4,
  "nbformat_minor": 0,
  "metadata": {
    "colab": {
      "name": "Armidale_12steps_Uni.ipynb",
      "provenance": [],
      "collapsed_sections": [],
      "machine_shape": "hm"
    },
    "kernelspec": {
      "name": "python3",
      "display_name": "Python 3"
    }
  },
  "cells": [
    {
      "cell_type": "code",
      "metadata": {
        "id": "RusDx9RfG2tl",
        "colab_type": "code",
        "colab": {}
      },
      "source": [
        "# Run this before everything\n",
        "!pip install --upgrade --q tensorflow"
      ],
      "execution_count": 0,
      "outputs": []
    },
    {
      "cell_type": "code",
      "metadata": {
        "id": "9chR0vj1G_vn",
        "colab_type": "code",
        "colab": {}
      },
      "source": [
        "from google.colab import drive\n",
        "import pandas as pd\n",
        "from pandas import read_csv, to_datetime\n",
        "import numpy as np\n",
        "from numpy import array,hstack\n",
        "import matplotlib.pyplot as plt\n",
        "from sklearn.preprocessing import MinMaxScaler\n",
        "plt.rcParams['figure.figsize'] = 10, 5\n",
        "import seaborn as sns\n",
        "from sklearn.metrics import mean_squared_error\n",
        "from math import sqrt\n",
        "from datetime import datetime\n"
      ],
      "execution_count": 0,
      "outputs": []
    },
    {
      "cell_type": "code",
      "metadata": {
        "id": "nLrIkJ1QHB2-",
        "colab_type": "code",
        "colab": {}
      },
      "source": [
        "drive.mount('/content/gdrive')"
      ],
      "execution_count": 0,
      "outputs": []
    },
    {
      "cell_type": "code",
      "metadata": {
        "id": "gK5OjKxSHEHO",
        "colab_type": "code",
        "colab": {}
      },
      "source": [
        "cd /content/gdrive/My Drive/"
      ],
      "execution_count": 0,
      "outputs": []
    },
    {
      "cell_type": "code",
      "metadata": {
        "id": "5-ilP-6aHGkB",
        "colab_type": "code",
        "colab": {}
      },
      "source": [
        "# Import the dataset\n",
        "drop = ['kVAR', 'kW', 'kWh Value','kVARh Value','kWh Actual', 'Max kW','Period', 'No Of Meters', 'kWh Estimate', 'TOU Demand kW', 'TOU Demand kVA', 'PF', 'CO2']\n",
        "\n",
        "dataset2018 = read_csv(r'2018_Armidale.csv', header = 0).drop(columns = drop).rename(columns = {\"Minimum Temperature\": \"Temp\"}).dropna() # Take into account DST\n",
        "dataset2019 = read_csv(r'2019_Armidale.csv', header = 0).drop(columns = drop).rename(columns = {\"Minimum Temperature\": \"Temp\"}).dropna()\n",
        "dataset2017 = read_csv(r'2017_Armidale.csv', header = 0).drop(columns = drop).rename(columns = {\"Minimum Temperature\": \"Temp\"}).dropna()\n",
        "datasetAll = pd.concat([dataset2017, dataset2018, dataset2019], axis=0, sort = False, ignore_index= True)\n",
        "\n",
        "# Scalers for datasetAll.\n",
        "s_demand = MinMaxScaler()\n",
        "datasetAll['Demand kVA_s'] =  s_demand.fit_transform(datasetAll[['Demand kVA']])\n",
        "datasetAll = datasetAll[['Demand kVA_s']].dropna()\n"
      ],
      "execution_count": 0,
      "outputs": []
    },
    {
      "cell_type": "code",
      "metadata": {
        "id": "CQ13GCXyE08Z",
        "colab_type": "code",
        "colab": {}
      },
      "source": [
        "datasetAll\n",
        "su17 = datasetAll.loc[0:5663]\n",
        "au17 = datasetAll.loc[5664:14495]\n",
        "wi17 = datasetAll.loc[14496:23327]\n",
        "sp17 = datasetAll.loc[23328:32059]\n",
        "su18 = datasetAll.loc[32060:40699]\n",
        "au18 = datasetAll.loc[40700:49531]\n",
        "wi18 = datasetAll.loc[49532:58363]\n",
        "sp18 = datasetAll.loc[58364:67095]\n",
        "su19 = datasetAll.loc[67096:75735]\n",
        "au19 = datasetAll.loc[75736: 84567]\n",
        "wi19 = datasetAll.loc[84568: 93399]\n",
        "sp19 = datasetAll.loc[93400:102131]\n",
        "su20 = datasetAll.loc[102132:]"
      ],
      "execution_count": 0,
      "outputs": []
    },
    {
      "cell_type": "code",
      "metadata": {
        "id": "2iT8lsHtHl8r",
        "colab_type": "code",
        "outputId": "f39150fa-0110-4ffb-a722-1a3995ec7e36",
        "colab": {
          "base_uri": "https://localhost:8080/",
          "height": 34
        }
      },
      "source": [
        "def split_dataset(dataset, fraction = 0.7):\n",
        "  ## Split the dataset into train and test set ##\n",
        "  train_size = int(len(dataset) * fraction)\n",
        "  test_size = len(dataset) - train_size\n",
        "  train_data, test_data = dataset[0:train_size,:], dataset[train_size:len(dataset),:]\n",
        "  return train_data, test_data\n",
        "\n",
        "def split_sequence(sequence, n_steps_in, n_steps_out):\n",
        "\t## Split a univariate sequence into samples ##\n",
        "\tX, y = list(), list()\n",
        "\tfor i in range(len(sequence)):\n",
        "\t\t# find the end of this pattern\n",
        "\t\tend_ix = i + n_steps_in\n",
        "\t\tout_end_ix = end_ix + n_steps_out\n",
        "\t\t# check if we are beyond the sequence\n",
        "\t\tif out_end_ix > len(sequence):\n",
        "\t\t\tbreak\n",
        "\t\t# gather input and output parts of the pattern\n",
        "\t\tseq_x, seq_y = sequence[i:end_ix], sequence[end_ix:out_end_ix]\n",
        "\t\tX.append(seq_x)\n",
        "\t\ty.append(seq_y)\n",
        "\treturn array(X), array(y)\n",
        " \n",
        "import tensorflow\n",
        "from tensorflow.keras.models import Sequential\n",
        "from tensorflow.keras.layers import LSTM\n",
        "from tensorflow.keras.layers import Dense, Dropout\n",
        "from tensorflow.keras.callbacks import EarlyStopping\n",
        "from tensorflow.keras import *\n",
        "print(tensorflow.__version__)"
      ],
      "execution_count": 0,
      "outputs": [
        {
          "output_type": "stream",
          "text": [
            "2.1.0\n"
          ],
          "name": "stdout"
        }
      ]
    },
    {
      "cell_type": "code",
      "metadata": {
        "id": "LnSv1Nq3J0cw",
        "colab_type": "code",
        "colab": {}
      },
      "source": [
        "n_steps_in= 12\n",
        "n_steps_out = 12\n",
        "\n",
        "# split dataset into train and test set\n",
        "train, test = split_dataset(wi17.append(wi18, ignore_index= False).values,fraction =1)#.append(su19, ignore_index = False).values, fraction = 1)#\"\"\".values\"\"\"\n",
        "# split into samples\n",
        "X_train, y_train = split_sequence(train, n_steps_in, n_steps_out)\n",
        "X_test, y_test = split_sequence(wi19.values, n_steps_in, n_steps_out)"
      ],
      "execution_count": 0,
      "outputs": []
    },
    {
      "cell_type": "code",
      "metadata": {
        "id": "OyO6X51fJnDN",
        "colab_type": "code",
        "outputId": "bb79ea85-f764-4ac7-ba9a-5c74855c45c7",
        "colab": {
          "base_uri": "https://localhost:8080/",
          "height": 1000
        }
      },
      "source": [
        "def build_model(X_train, y_train, X_test, y_test, n_steps_in, n_steps_out, epochs, verbose): \n",
        "  ## Build an LSTM model ##\n",
        "    # Define model\n",
        "    model = Sequential()\n",
        "    model.add(LSTM(12, activation='relu', return_sequences= 1, input_shape=(n_steps_in, X_train.shape[2])))\n",
        "    model.add(Dropout(0.2))\n",
        "    model.add(LSTM(50, return_sequences= 0))\n",
        "    model.add(Dropout(0.5))\n",
        "    #model.add(Dense(600))\n",
        "    #model.add(Dense({{choice([120, 256, 512, 1024])}}))\n",
        "    #model.add(LSTM(100, activation='relu', return_sequences= False))\n",
        "    #model.add(Dropout(0.0001))\n",
        "    #model.add(LSTM(100, activation='relu', return_sequences= False))\n",
        "    #model.add(Dense(5))\n",
        "    #model.add(LSTM(26, activation= 'relu'))\n",
        "    #model.add(Dropout(0.01))\n",
        "    model.add(Dense(n_steps_out)) \n",
        "    \n",
        "    # Train Model\n",
        "    model.compile(optimizer='adam', loss='mse')\n",
        "    history = model.fit(X_train, y_train, epochs=epochs, verbose=verbose, validation_split= 0.2, shuffle = False ,callbacks = [EarlyStopping(patience = 20)])\n",
        "    \n",
        "    # Visualise Epoch\n",
        "    plt.plot(history.history['loss'], label='loss')\n",
        "    plt.plot(history.history['val_loss'], label='val_loss')\n",
        "    plt.legend()\n",
        "\n",
        "    return model, history\n",
        "\n",
        "model, history = build_model(X_train, y_train, X_test, y_test, n_steps_in = n_steps_in, n_steps_out = n_steps_out, epochs = 100, verbose = 2)"
      ],
      "execution_count": 0,
      "outputs": [
        {
          "output_type": "stream",
          "text": [
            "Train on 14112 samples, validate on 3529 samples\n",
            "Epoch 1/100\n",
            "14112/14112 - 7s - loss: 0.0427 - val_loss: 0.0131\n",
            "Epoch 2/100\n",
            "14112/14112 - 5s - loss: 0.0169 - val_loss: 0.0110\n",
            "Epoch 3/100\n",
            "14112/14112 - 5s - loss: 0.0131 - val_loss: 0.0102\n",
            "Epoch 4/100\n",
            "14112/14112 - 5s - loss: 0.0112 - val_loss: 0.0096\n",
            "Epoch 5/100\n",
            "14112/14112 - 5s - loss: 0.0100 - val_loss: 0.0094\n",
            "Epoch 6/100\n",
            "14112/14112 - 5s - loss: 0.0093 - val_loss: 0.0089\n",
            "Epoch 7/100\n",
            "14112/14112 - 5s - loss: 0.0089 - val_loss: 0.0089\n",
            "Epoch 8/100\n",
            "14112/14112 - 5s - loss: 0.0085 - val_loss: 0.0088\n",
            "Epoch 9/100\n",
            "14112/14112 - 5s - loss: 0.0084 - val_loss: 0.0087\n",
            "Epoch 10/100\n",
            "14112/14112 - 5s - loss: 0.0079 - val_loss: 0.0084\n",
            "Epoch 11/100\n",
            "14112/14112 - 5s - loss: 0.0079 - val_loss: 0.0084\n",
            "Epoch 12/100\n",
            "14112/14112 - 5s - loss: 0.0077 - val_loss: 0.0084\n",
            "Epoch 13/100\n",
            "14112/14112 - 5s - loss: 0.0077 - val_loss: 0.0082\n",
            "Epoch 14/100\n",
            "14112/14112 - 5s - loss: 0.0076 - val_loss: 0.0082\n",
            "Epoch 15/100\n",
            "14112/14112 - 5s - loss: 0.0075 - val_loss: 0.0081\n",
            "Epoch 16/100\n",
            "14112/14112 - 5s - loss: 0.0074 - val_loss: 0.0082\n",
            "Epoch 17/100\n",
            "14112/14112 - 5s - loss: 0.0074 - val_loss: 0.0082\n",
            "Epoch 18/100\n",
            "14112/14112 - 5s - loss: 0.0074 - val_loss: 0.0081\n",
            "Epoch 19/100\n",
            "14112/14112 - 5s - loss: 0.0073 - val_loss: 0.0081\n",
            "Epoch 20/100\n",
            "14112/14112 - 5s - loss: 0.0073 - val_loss: 0.0081\n",
            "Epoch 21/100\n",
            "14112/14112 - 5s - loss: 0.0074 - val_loss: 0.0081\n",
            "Epoch 22/100\n",
            "14112/14112 - 5s - loss: 0.0073 - val_loss: 0.0080\n",
            "Epoch 23/100\n",
            "14112/14112 - 5s - loss: 0.0072 - val_loss: 0.0080\n",
            "Epoch 24/100\n",
            "14112/14112 - 5s - loss: 0.0072 - val_loss: 0.0079\n",
            "Epoch 25/100\n",
            "14112/14112 - 5s - loss: 0.0073 - val_loss: 0.0079\n",
            "Epoch 26/100\n",
            "14112/14112 - 5s - loss: 0.0072 - val_loss: 0.0079\n",
            "Epoch 27/100\n",
            "14112/14112 - 5s - loss: 0.0072 - val_loss: 0.0080\n",
            "Epoch 28/100\n",
            "14112/14112 - 5s - loss: 0.0072 - val_loss: 0.0079\n",
            "Epoch 29/100\n",
            "14112/14112 - 5s - loss: 0.0071 - val_loss: 0.0080\n",
            "Epoch 30/100\n",
            "14112/14112 - 5s - loss: 0.0071 - val_loss: 0.0079\n",
            "Epoch 31/100\n",
            "14112/14112 - 5s - loss: 0.0071 - val_loss: 0.0079\n",
            "Epoch 32/100\n",
            "14112/14112 - 5s - loss: 0.0071 - val_loss: 0.0079\n",
            "Epoch 33/100\n",
            "14112/14112 - 5s - loss: 0.0071 - val_loss: 0.0078\n",
            "Epoch 34/100\n",
            "14112/14112 - 5s - loss: 0.0070 - val_loss: 0.0078\n",
            "Epoch 35/100\n",
            "14112/14112 - 5s - loss: 0.0070 - val_loss: 0.0077\n",
            "Epoch 36/100\n",
            "14112/14112 - 5s - loss: 0.0070 - val_loss: 0.0078\n",
            "Epoch 37/100\n",
            "14112/14112 - 5s - loss: 0.0070 - val_loss: 0.0078\n",
            "Epoch 38/100\n",
            "14112/14112 - 5s - loss: 0.0069 - val_loss: 0.0077\n",
            "Epoch 39/100\n",
            "14112/14112 - 5s - loss: 0.0070 - val_loss: 0.0077\n",
            "Epoch 40/100\n",
            "14112/14112 - 5s - loss: 0.0069 - val_loss: 0.0078\n",
            "Epoch 41/100\n",
            "14112/14112 - 5s - loss: 0.0070 - val_loss: 0.0077\n",
            "Epoch 42/100\n",
            "14112/14112 - 5s - loss: 0.0069 - val_loss: 0.0078\n",
            "Epoch 43/100\n",
            "14112/14112 - 5s - loss: 0.0069 - val_loss: 0.0077\n",
            "Epoch 44/100\n",
            "14112/14112 - 5s - loss: 0.0069 - val_loss: 0.0078\n",
            "Epoch 45/100\n",
            "14112/14112 - 5s - loss: 0.0069 - val_loss: 0.0077\n",
            "Epoch 46/100\n",
            "14112/14112 - 5s - loss: 0.0068 - val_loss: 0.0076\n",
            "Epoch 47/100\n",
            "14112/14112 - 5s - loss: 0.0068 - val_loss: 0.0077\n",
            "Epoch 48/100\n",
            "14112/14112 - 5s - loss: 0.0068 - val_loss: 0.0077\n",
            "Epoch 49/100\n",
            "14112/14112 - 6s - loss: 0.0069 - val_loss: 0.0077\n",
            "Epoch 50/100\n",
            "14112/14112 - 6s - loss: 0.0068 - val_loss: 0.0077\n",
            "Epoch 51/100\n",
            "14112/14112 - 5s - loss: 0.0068 - val_loss: 0.0076\n",
            "Epoch 52/100\n",
            "14112/14112 - 5s - loss: 0.0068 - val_loss: 0.0075\n",
            "Epoch 53/100\n",
            "14112/14112 - 5s - loss: 0.0068 - val_loss: 0.0075\n",
            "Epoch 54/100\n",
            "14112/14112 - 5s - loss: 0.0069 - val_loss: 0.0078\n",
            "Epoch 55/100\n",
            "14112/14112 - 5s - loss: 0.0068 - val_loss: 0.0077\n",
            "Epoch 56/100\n",
            "14112/14112 - 5s - loss: 0.0069 - val_loss: 0.0077\n",
            "Epoch 57/100\n",
            "14112/14112 - 5s - loss: 0.0068 - val_loss: 0.0077\n",
            "Epoch 58/100\n",
            "14112/14112 - 5s - loss: 0.0068 - val_loss: 0.0077\n",
            "Epoch 59/100\n",
            "14112/14112 - 5s - loss: 0.0068 - val_loss: 0.0076\n",
            "Epoch 60/100\n",
            "14112/14112 - 5s - loss: 0.0067 - val_loss: 0.0077\n",
            "Epoch 61/100\n",
            "14112/14112 - 5s - loss: 0.0067 - val_loss: 0.0077\n",
            "Epoch 62/100\n",
            "14112/14112 - 5s - loss: 0.0067 - val_loss: 0.0076\n",
            "Epoch 63/100\n",
            "14112/14112 - 5s - loss: 0.0068 - val_loss: 0.0077\n",
            "Epoch 64/100\n",
            "14112/14112 - 5s - loss: 0.0067 - val_loss: 0.0076\n",
            "Epoch 65/100\n",
            "14112/14112 - 5s - loss: 0.0067 - val_loss: 0.0077\n",
            "Epoch 66/100\n",
            "14112/14112 - 5s - loss: 0.0068 - val_loss: 0.0076\n",
            "Epoch 67/100\n",
            "14112/14112 - 5s - loss: 0.0068 - val_loss: 0.0076\n",
            "Epoch 68/100\n",
            "14112/14112 - 5s - loss: 0.0067 - val_loss: 0.0076\n",
            "Epoch 69/100\n",
            "14112/14112 - 5s - loss: 0.0068 - val_loss: 0.0076\n",
            "Epoch 70/100\n",
            "14112/14112 - 5s - loss: 0.0067 - val_loss: 0.0077\n",
            "Epoch 71/100\n",
            "14112/14112 - 5s - loss: 0.0067 - val_loss: 0.0076\n",
            "Epoch 72/100\n",
            "14112/14112 - 5s - loss: 0.0067 - val_loss: 0.0076\n",
            "Epoch 73/100\n",
            "14112/14112 - 5s - loss: 0.0067 - val_loss: 0.0076\n"
          ],
          "name": "stdout"
        },
        {
          "output_type": "display_data",
          "data": {
            "image/png": "[encoded data removed]",
            "text/plain": [
              "<Figure size 720x360 with 1 Axes>"
            ]
          },
          "metadata": {
            "tags": []
          }
        }
      ]
    },
    {
      "cell_type": "code",
      "metadata": {
        "id": "E_oZtB9iM6Ks",
        "colab_type": "code",
        "outputId": "d2ef0fd1-79bd-4516-f955-17ab4cecc08a",
        "colab": {
          "base_uri": "https://localhost:8080/",
          "height": 118
        }
      },
      "source": [
        "def RMSE(model, X_test, y_test, n_steps_out, scaler):\n",
        "  y_hat = scaler.inverse_transform(model.predict(X_test))\n",
        "  RMSE = np.sqrt(mean_squared_error(scaler.inverse_transform(y_test.reshape(y_hat.shape[0], y_hat.shape[1])), y_hat, multioutput= 'raw_values'))\n",
        "  mean_RMSE = sum(RMSE)/ n_steps_out  \n",
        "  return y_hat, RMSE, mean_RMSE\n",
        "y_hat_train, train_RMSE, train_mean_RMSE =RMSE(model, X_train, y_train, n_steps_out, s_demand)\n",
        "y_hat,RMSE, mean_RMSE = RMSE(model, X_test, y_test, n_steps_out, s_demand)\n",
        "print(\"Train\")\n",
        "print(train_RMSE, train_mean_RMSE)\n",
        "print(\"Test\")\n",
        "print(RMSE, mean_RMSE)"
      ],
      "execution_count": 0,
      "outputs": [
        {
          "output_type": "stream",
          "text": [
            "Train\n",
            "[16.22654272 20.36027247 22.84719477 24.71937818 26.25973971 27.52555457\n",
            " 28.72636788 29.86899856 30.876188   31.72287261 32.43903434 33.10684402] 27.056582318679364\n",
            "Test\n",
            "[15.36893034 19.44456433 22.04521189 23.92632429 25.44162038 26.82412515\n",
            " 28.1332642  29.44512381 30.59288479 31.48825997 32.17177304 32.68514152] 26.46393531000959\n"
          ],
          "name": "stdout"
        }
      ]
    }
  ]
}
