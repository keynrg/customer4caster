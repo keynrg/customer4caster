{
  "nbformat": 4,
  "nbformat_minor": 0,
  "metadata": {
    "colab": {
      "name": "Armidale_12steps_Uni.ipynb",
      "provenance": [],
      "collapsed_sections": [],
      "machine_shape": "hm"
    },
    "kernelspec": {
      "name": "python3",
      "display_name": "Python 3"
    }
  },
  "cells": [
    {
      "cell_type": "markdown",
      "metadata": {
        "id": "rDh9dnfr2FUy",
        "colab_type": "text"
      },
      "source": [
        "<a href=\"https://colab.research.google.com/github/googlecolab/colabtools/blob/master/notebooks/colab-github-demo.ipynb\">\n",
        "  <img src=\"https://colab.research.google.com/assets/colab-badge.svg\" alt=\"Open In Colab\"/>\n",
        "</a>\n"
      ]
    },
    {
      "cell_type": "code",
      "metadata": {
        "id": "RusDx9RfG2tl",
        "colab_type": "code",
        "colab": {}
      },
      "source": [
        "# Run this before everything\n",
        "!pip install --upgrade --q tensorflow"
      ],
      "execution_count": 0,
      "outputs": []
    },
    {
      "cell_type": "code",
      "metadata": {
        "id": "9chR0vj1G_vn",
        "colab_type": "code",
        "colab": {}
      },
      "source": [
        "from google.colab import drive\n",
        "import pandas as pd\n",
        "from pandas import read_csv, to_datetime\n",
        "import numpy as np\n",
        "from numpy import array,hstack\n",
        "import matplotlib.pyplot as plt\n",
        "from sklearn.preprocessing import MinMaxScaler\n",
        "plt.rcParams['figure.figsize'] = 10, 5\n",
        "import seaborn as sns\n",
        "from sklearn.metrics import mean_squared_error\n",
        "from math import sqrt\n",
        "from datetime import datetime\n"
      ],
      "execution_count": 0,
      "outputs": []
    },
    {
      "cell_type": "code",
      "metadata": {
        "id": "nLrIkJ1QHB2-",
        "colab_type": "code",
        "colab": {}
      },
      "source": [
        "drive.mount('/content/gdrive')"
      ],
      "execution_count": 0,
      "outputs": []
    },
    {
      "cell_type": "code",
      "metadata": {
        "id": "gK5OjKxSHEHO",
        "colab_type": "code",
        "colab": {}
      },
      "source": [
        "cd /content/gdrive/My Drive/"
      ],
      "execution_count": 0,
      "outputs": []
    },
    {
      "cell_type": "code",
      "metadata": {
        "id": "5-ilP-6aHGkB",
        "colab_type": "code",
        "colab": {}
      },
      "source": [
        "# Import the dataset\n",
        "drop = ['kVAR', 'kW', 'kWh Value','kVARh Value','kWh Actual', 'Max kW','Period', 'No Of Meters', 'kWh Estimate', 'TOU Demand kW', 'TOU Demand kVA', 'PF', 'CO2']\n",
        "\n",
        "dataset2018 = read_csv(r'2018_Armidale.csv', header = 0).drop(columns = drop).rename(columns = {\"Minimum Temperature\": \"Temp\"}).dropna() # Take into account DST\n",
        "dataset2019 = read_csv(r'2019_Armidale.csv', header = 0).drop(columns = drop).rename(columns = {\"Minimum Temperature\": \"Temp\"}).dropna()\n",
        "dataset2017 = read_csv(r'2017_Armidale.csv', header = 0).drop(columns = drop).rename(columns = {\"Minimum Temperature\": \"Temp\"}).dropna()\n",
        "datasetAll = pd.concat([dataset2017, dataset2018, dataset2019], axis=0, sort = False, ignore_index= True)\n",
        "\n",
        "# Scalers for datasetAll.\n",
        "s_demand = MinMaxScaler()\n",
        "datasetAll['Demand kVA_s'] =  s_demand.fit_transform(datasetAll[['Demand kVA']])\n",
        "datasetAll = datasetAll[['Demand kVA_s']].dropna()\n"
      ],
      "execution_count": 0,
      "outputs": []
    },
    {
      "cell_type": "code",
      "metadata": {
        "id": "CQ13GCXyE08Z",
        "colab_type": "code",
        "colab": {}
      },
      "source": [
        "datasetAll\n",
        "su17 = datasetAll.loc[0:5663]\n",
        "au17 = datasetAll.loc[5664:14495]\n",
        "wi17 = datasetAll.loc[14496:23327]\n",
        "sp17 = datasetAll.loc[23328:32059]\n",
        "su18 = datasetAll.loc[32060:40699]\n",
        "au18 = datasetAll.loc[40700:49531]\n",
        "wi18 = datasetAll.loc[49532:58363]\n",
        "sp18 = datasetAll.loc[58364:67095]\n",
        "su19 = datasetAll.loc[67096:75735]\n",
        "au19 = datasetAll.loc[75736: 84567]\n",
        "wi19 = datasetAll.loc[84568: 93399]\n",
        "sp19 = datasetAll.loc[93400:102131]\n",
        "su20 = datasetAll.loc[102132:]"
      ],
      "execution_count": 0,
      "outputs": []
    },
    {
      "cell_type": "code",
      "metadata": {
        "id": "2iT8lsHtHl8r",
        "colab_type": "code",
        "outputId": "ba1e4651-fbb9-4c20-b22c-64fe7f390493",
        "colab": {
          "base_uri": "https://localhost:8080/",
          "height": 34
        }
      },
      "source": [
        "def split_dataset(dataset, fraction = 0.7):\n",
        "  ## Split the dataset into train and test set ##\n",
        "  train_size = int(len(dataset) * fraction)\n",
        "  test_size = len(dataset) - train_size\n",
        "  train_data, test_data = dataset[0:train_size,:], dataset[train_size:len(dataset),:]\n",
        "  return train_data, test_data\n",
        "\n",
        "def split_sequence(sequence, n_steps_in, n_steps_out):\n",
        "\t## Split a univariate sequence into samples ##\n",
        "\tX, y = list(), list()\n",
        "\tfor i in range(len(sequence)):\n",
        "\t\t# find the end of this pattern\n",
        "\t\tend_ix = i + n_steps_in\n",
        "\t\tout_end_ix = end_ix + n_steps_out\n",
        "\t\t# check if we are beyond the sequence\n",
        "\t\tif out_end_ix > len(sequence):\n",
        "\t\t\tbreak\n",
        "\t\t# gather input and output parts of the pattern\n",
        "\t\tseq_x, seq_y = sequence[i:end_ix], sequence[end_ix:out_end_ix]\n",
        "\t\tX.append(seq_x)\n",
        "\t\ty.append(seq_y)\n",
        "\treturn array(X), array(y)\n",
        " \n",
        "import tensorflow\n",
        "from tensorflow.keras.models import Sequential\n",
        "from tensorflow.keras.layers import LSTM\n",
        "from tensorflow.keras.layers import Dense, Dropout\n",
        "from tensorflow.keras.callbacks import EarlyStopping\n",
        "from tensorflow.keras import *\n",
        "print(tensorflow.__version__)"
      ],
      "execution_count": 15,
      "outputs": [
        {
          "output_type": "stream",
          "text": [
            "2.1.0\n"
          ],
          "name": "stdout"
        }
      ]
    },
    {
      "cell_type": "code",
      "metadata": {
        "id": "LnSv1Nq3J0cw",
        "colab_type": "code",
        "colab": {}
      },
      "source": [
        "n_steps_in= 60\n",
        "n_steps_out = 60\n",
        "\n",
        "# split dataset into train and test set\n",
        "train, test = split_dataset(wi17.append(wi18, ignore_index= False).values,fraction =1)#.append(su19, ignore_index = False).values, fraction = 1)#\"\"\".values\"\"\"\n",
        "# split into samples\n",
        "X_train, y_train = split_sequence(train, n_steps_in, n_steps_out)\n",
        "X_test, y_test = split_sequence(wi19.values, n_steps_in, n_steps_out)"
      ],
      "execution_count": 0,
      "outputs": []
    },
    {
      "cell_type": "code",
      "metadata": {
        "id": "OyO6X51fJnDN",
        "colab_type": "code",
        "outputId": "86cdd181-a02c-4c22-9014-48b02a581143",
        "colab": {
          "base_uri": "https://localhost:8080/",
          "height": 1000
        }
      },
      "source": [
        "def build_model(X_train, y_train, X_test, y_test, n_steps_in, n_steps_out, epochs, verbose): \n",
        "  ## Build an LSTM model ##\n",
        "    # Define model\n",
        "    model = Sequential()\n",
        "    model.add(LSTM(20, activation='relu', return_sequences= 1, input_shape=(n_steps_in, X_train.shape[2])))\n",
        "    model.add(Dropout(0.2))\n",
        "    model.add(LSTM(20, return_sequences= 1))\n",
        "    model.add(Dropout(0.5))\n",
        "    model.add(LSTM(20, return_sequences = 0))\n",
        "    #model.add(Dense(600))\n",
        "    #model.add(Dense({{choice([120, 256, 512, 1024])}}))\n",
        "    #model.add(LSTM(50, activation='relu', return_sequences= False))\n",
        "    #model.add(Dropout(0.0001))\n",
        "    #model.add(LSTM(100, activation='relu', return_sequences= False))\n",
        "    #model.add(Dense(5))\n",
        "    #model.add(LSTM(26, activation= 'relu'))\n",
        "    #model.add(Dropout(0.01))\n",
        "    model.add(Dense(n_steps_out)) \n",
        "    \n",
        "    # Train Model\n",
        "    model.compile(optimizer='adam', loss='mse')\n",
        "    history = model.fit(X_train, y_train, epochs=epochs, verbose=verbose, validation_split= 0.2, shuffle = False ,callbacks = [EarlyStopping(patience = 10)])\n",
        "    \n",
        "    # Visualise Epoch\n",
        "    plt.plot(history.history['loss'], label='loss')\n",
        "    plt.plot(history.history['val_loss'], label='val_loss')\n",
        "    plt.legend()\n",
        "\n",
        "    return model, history\n",
        "\n",
        "model, history = build_model(X_train, y_train, X_test, y_test, n_steps_in = n_steps_in, n_steps_out = n_steps_out, epochs = 100, verbose = 2)"
      ],
      "execution_count": 114,
      "outputs": [
        {
          "output_type": "stream",
          "text": [
            "Train on 14036 samples, validate on 3509 samples\n",
            "Epoch 1/100\n",
            "14036/14036 - 34s - loss: 0.0408 - val_loss: 0.0407\n",
            "Epoch 2/100\n",
            "14036/14036 - 30s - loss: 0.0225 - val_loss: 0.0441\n",
            "Epoch 3/100\n",
            "14036/14036 - 30s - loss: 0.0225 - val_loss: 0.0457\n",
            "Epoch 4/100\n",
            "14036/14036 - 30s - loss: 0.0222 - val_loss: 0.0456\n",
            "Epoch 5/100\n",
            "14036/14036 - 30s - loss: 0.0210 - val_loss: 0.0431\n",
            "Epoch 6/100\n",
            "14036/14036 - 30s - loss: 0.0190 - val_loss: 0.0351\n",
            "Epoch 7/100\n",
            "14036/14036 - 30s - loss: 0.0166 - val_loss: 0.0233\n",
            "Epoch 8/100\n",
            "14036/14036 - 30s - loss: 0.0149 - val_loss: 0.0194\n",
            "Epoch 9/100\n",
            "14036/14036 - 30s - loss: 0.0144 - val_loss: 0.0179\n",
            "Epoch 10/100\n",
            "14036/14036 - 31s - loss: 0.0140 - val_loss: 0.0166\n",
            "Epoch 11/100\n",
            "14036/14036 - 31s - loss: 0.0137 - val_loss: 0.0158\n",
            "Epoch 12/100\n",
            "14036/14036 - 31s - loss: 0.0134 - val_loss: 0.0153\n",
            "Epoch 13/100\n",
            "14036/14036 - 30s - loss: 0.0132 - val_loss: 0.0148\n",
            "Epoch 14/100\n",
            "14036/14036 - 30s - loss: 0.0129 - val_loss: 0.0143\n",
            "Epoch 15/100\n",
            "14036/14036 - 30s - loss: 0.0127 - val_loss: 0.0139\n",
            "Epoch 16/100\n",
            "14036/14036 - 30s - loss: 0.0125 - val_loss: 0.0138\n",
            "Epoch 17/100\n",
            "14036/14036 - 30s - loss: 0.0123 - val_loss: 0.0133\n",
            "Epoch 18/100\n",
            "14036/14036 - 30s - loss: 0.0123 - val_loss: 0.0133\n",
            "Epoch 19/100\n",
            "14036/14036 - 30s - loss: 0.0125 - val_loss: 0.0184\n",
            "Epoch 20/100\n",
            "14036/14036 - 31s - loss: 0.0127 - val_loss: 0.0137\n",
            "Epoch 21/100\n",
            "14036/14036 - 30s - loss: 0.0120 - val_loss: 0.0126\n",
            "Epoch 22/100\n",
            "14036/14036 - 30s - loss: 0.0120 - val_loss: 0.0123\n",
            "Epoch 23/100\n",
            "14036/14036 - 30s - loss: 0.0124 - val_loss: 0.0135\n",
            "Epoch 24/100\n",
            "14036/14036 - 30s - loss: 0.0118 - val_loss: 0.0122\n",
            "Epoch 25/100\n",
            "14036/14036 - 30s - loss: 0.0120 - val_loss: 0.0133\n",
            "Epoch 26/100\n",
            "14036/14036 - 30s - loss: 0.0134 - val_loss: 0.0126\n",
            "Epoch 27/100\n",
            "14036/14036 - 29s - loss: 0.0113 - val_loss: 0.0121\n",
            "Epoch 28/100\n",
            "14036/14036 - 29s - loss: 0.0108 - val_loss: 0.0120\n",
            "Epoch 29/100\n",
            "14036/14036 - 29s - loss: 0.0108 - val_loss: 0.0120\n",
            "Epoch 30/100\n",
            "14036/14036 - 29s - loss: 0.0105 - val_loss: 0.0117\n",
            "Epoch 31/100\n",
            "14036/14036 - 30s - loss: 0.0104 - val_loss: 0.0118\n",
            "Epoch 32/100\n",
            "14036/14036 - 29s - loss: 0.0103 - val_loss: 0.0119\n",
            "Epoch 33/100\n",
            "14036/14036 - 29s - loss: 0.0102 - val_loss: 0.0117\n",
            "Epoch 34/100\n",
            "14036/14036 - 29s - loss: 0.0101 - val_loss: 0.0117\n",
            "Epoch 35/100\n",
            "14036/14036 - 29s - loss: 0.0101 - val_loss: 0.0118\n",
            "Epoch 36/100\n",
            "14036/14036 - 30s - loss: 0.0100 - val_loss: 0.0121\n",
            "Epoch 37/100\n",
            "14036/14036 - 29s - loss: 0.0099 - val_loss: 0.0124\n",
            "Epoch 38/100\n",
            "14036/14036 - 29s - loss: 0.0099 - val_loss: 0.0124\n",
            "Epoch 39/100\n",
            "14036/14036 - 29s - loss: 0.0103 - val_loss: 0.0119\n",
            "Epoch 40/100\n",
            "14036/14036 - 29s - loss: 0.0098 - val_loss: 0.0120\n",
            "Epoch 41/100\n",
            "14036/14036 - 30s - loss: 0.0097 - val_loss: 0.0121\n",
            "Epoch 42/100\n",
            "14036/14036 - 30s - loss: 0.0097 - val_loss: 0.0118\n",
            "Epoch 43/100\n",
            "14036/14036 - 30s - loss: 0.0097 - val_loss: 0.0116\n",
            "Epoch 44/100\n",
            "14036/14036 - 30s - loss: 0.0096 - val_loss: 0.0126\n",
            "Epoch 45/100\n",
            "14036/14036 - 30s - loss: 0.0095 - val_loss: 0.0130\n",
            "Epoch 46/100\n",
            "14036/14036 - 30s - loss: 0.0096 - val_loss: 0.0129\n",
            "Epoch 47/100\n",
            "14036/14036 - 30s - loss: 0.0096 - val_loss: 0.0123\n",
            "Epoch 48/100\n",
            "14036/14036 - 30s - loss: 0.0095 - val_loss: 0.0136\n",
            "Epoch 49/100\n",
            "14036/14036 - 30s - loss: 0.0094 - val_loss: 0.0118\n",
            "Epoch 50/100\n",
            "14036/14036 - 30s - loss: 0.0094 - val_loss: 0.0139\n",
            "Epoch 51/100\n",
            "14036/14036 - 30s - loss: 0.0093 - val_loss: 0.0134\n",
            "Epoch 52/100\n",
            "14036/14036 - 31s - loss: 0.0093 - val_loss: 0.0137\n",
            "Epoch 53/100\n",
            "14036/14036 - 30s - loss: 0.0093 - val_loss: 0.0136\n"
          ],
          "name": "stdout"
        },
        {
          "output_type": "display_data",
          "data": {
            "image/png": "[encoded data removed]",
            "text/plain": [
              "<Figure size 720x360 with 1 Axes>"
            ]
          },
          "metadata": {
            "tags": []
          }
        }
      ]
    },
    {
      "cell_type": "code",
      "metadata": {
        "id": "E_oZtB9iM6Ks",
        "colab_type": "code",
        "outputId": "3afe1fe5-399c-4469-e474-d8a70c3aa22d",
        "colab": {
          "base_uri": "https://localhost:8080/",
          "height": 404
        }
      },
      "source": [
        "def RMSE(model, X_test, y_test, n_steps_out, scaler):\n",
        "  y_hat = scaler.inverse_transform(model.predict(X_test))\n",
        "  RMSE = np.sqrt(mean_squared_error(scaler.inverse_transform(y_test.reshape(y_hat.shape[0], y_hat.shape[1])), y_hat, multioutput= 'raw_values'))\n",
        "  mean_RMSE = sum(RMSE)/ n_steps_out  \n",
        "  return y_hat, RMSE, mean_RMSE\n",
        "y_hat_train, train_RMSE, train_mean_RMSE =RMSE(model, X_train, y_train, n_steps_out, s_demand)\n",
        "y_hat,RMSE, mean_RMSE = RMSE(model, X_test, y_test, n_steps_out, s_demand)\n",
        "print(\"Train\")\n",
        "print(train_RMSE, train_mean_RMSE)\n",
        "print(\"Test\")\n",
        "print(RMSE, mean_RMSE)"
      ],
      "execution_count": 115,
      "outputs": [
        {
          "output_type": "stream",
          "text": [
            "Train\n",
            "[20.08335825 22.09106531 23.69365168 24.63425283 25.87010717 26.75804697\n",
            " 27.49923737 28.49060002 29.24288426 30.18877817 30.80065083 30.95725107\n",
            " 31.67221738 31.96964244 32.89639041 33.3483887  33.34194332 34.38506077\n",
            " 34.53770376 35.22222925 35.67371461 36.27801051 36.52657815 37.04861259\n",
            " 37.15411805 37.34849998 37.9135066  37.73979395 38.07841339 38.33573284\n",
            " 38.63015208 39.10961728 39.508391   39.24990957 39.06039851 38.61534339\n",
            " 39.34616168 39.35810609 38.8817215  38.90163412 39.4464344  39.36868141\n",
            " 38.86056141 38.9414188  39.15144472 38.75976913 38.86698548 39.00926546\n",
            " 39.48210942 38.64617887 39.05789957 39.09286906 38.7658088  38.85279433\n",
            " 38.94219562 39.02228285 38.98354291 38.49300981 38.65848418 38.71917885] 35.49271318254811\n",
            "Test\n",
            "[20.31367491 22.39951031 24.14840162 25.28010075 26.53941885 27.55351203\n",
            " 28.60606124 29.60107956 30.39323233 31.15266667 31.55400942 31.70276755\n",
            " 32.15242423 32.26098161 33.02184719 33.35896306 33.34292611 34.18040728\n",
            " 34.32329734 34.85075295 35.20531865 35.70304584 35.88140512 36.30734347\n",
            " 36.34453422 36.41994709 36.84745886 36.63879173 36.78596624 36.72212131\n",
            " 36.88653327 37.09641522 37.35051203 37.0329615  36.60769425 36.27179021\n",
            " 36.69792856 36.85375227 36.48937465 36.55403748 37.06045567 37.16716152\n",
            " 36.62519178 36.7971851  37.11791856 36.65355941 36.88407227 37.08979431\n",
            " 37.67920263 36.8788291  37.36590486 37.40744654 37.16898982 37.25914024\n",
            " 37.43378187 37.59731757 37.5289649  37.15898349 37.39477546 37.42868768] 34.51883882955862\n"
          ],
          "name": "stdout"
        }
      ]
    },
    {
      "cell_type": "code",
      "metadata": {
        "id": "9TCUhcA37Ui3",
        "colab_type": "code",
        "colab": {
          "base_uri": "https://localhost:8080/",
          "height": 320
        },
        "outputId": "602377fa-bff9-44b7-f5ce-23ba0fd7be85"
      },
      "source": [
        "import random\n",
        "def graphing(y_hat, y_test, scaler):\n",
        "  i = random.randint(0, y_hat.shape[0])\n",
        "  plt.plot(y_hat.reshape(y_hat.shape[0],y_hat.shape[1])[i], label = \"Prediction\")\n",
        "  plt.plot(scaler.inverse_transform(y_test.reshape(y_hat.shape[0], y_hat.shape[1]))[i], label = \"Truth\")\n",
        "  plt.legend()\n",
        "  plt.show()\n",
        "\n",
        "graphing(y_hat, y_test, s_demand)\n",
        "  "
      ],
      "execution_count": 146,
      "outputs": [
        {
          "output_type": "display_data",
          "data": {
            "image/png": "[encoded data removed]",
            "text/plain": [
              "<Figure size 720x360 with 1 Axes>"
            ]
          },
          "metadata": {
            "tags": []
          }
        }
      ]
    }
  ]
}