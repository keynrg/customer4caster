{
  "nbformat": 4,
  "nbformat_minor": 0,
  "metadata": {
    "colab": {
      "name": "LSTM_Multisteps_Multivariate.ipynb",
      "provenance": [],
      "collapsed_sections": []
    },
    "kernelspec": {
      "name": "python3",
      "display_name": "Python 3"
    },
    "accelerator": "GPU"
  },
  "cells": [
    {
      "cell_type": "markdown",
      "metadata": {
        "id": "_406eu9vpjjz",
        "colab_type": "text"
      },
      "source": [
        "**VERSION** LSTM Multistep Multivariate  v1.2 6-Dec-2019.\n",
        "Prototype date: 17-Dec-2019\n",
        "***\n",
        "**PROBLEM FRAME**\n",
        "\n",
        "*'Build a model that can forecast **4** values ahead'*\n",
        "\n",
        "**ACKNOWLEDGEMENT**\n",
        "\n",
        "*This notebook is heavily inspired by [Jason Brownlee](https://machinelearningmastery.com/how-to-develop-lstm-models-for-time-series-forecasting/)*.\n",
        "\n",
        "*Special thanks to Anand and Howard.* \n",
        "\n",
        "\n",
        "\n"
      ]
    },
    {
      "cell_type": "code",
      "metadata": {
        "id": "z2uRg6Spnzbg",
        "colab_type": "code",
        "colab": {}
      },
      "source": [
        "# Run this before everything\n",
        "pip install --upgrade tensorflow"
      ],
      "execution_count": 0,
      "outputs": []
    },
    {
      "cell_type": "code",
      "metadata": {
        "id": "5AZ44jvenraf",
        "colab_type": "code",
        "colab": {}
      },
      "source": [
        "from google.colab import drive\n",
        "import pandas as pd\n",
        "from pandas import read_csv, to_datetime\n",
        "import numpy as np\n",
        "from numpy import array,hstack\n",
        "import matplotlib.pyplot as plt\n",
        "from sklearn.preprocessing import MinMaxScaler\n",
        "plt.rcParams['figure.figsize'] = 10, 5\n",
        "import seaborn as sns\n",
        "from tensorflow.keras.models import load_model\n",
        "from statsmodels.tsa.stattools import adfuller\n",
        "from sklearn.metrics import mean_squared_error\n",
        "from math import sqrt"
      ],
      "execution_count": 0,
      "outputs": []
    },
    {
      "cell_type": "markdown",
      "metadata": {
        "id": "DCWdWb7dJZRv",
        "colab_type": "text"
      },
      "source": [
        "# **1. Import Data**"
      ]
    },
    {
      "cell_type": "markdown",
      "metadata": {
        "id": "PVLkr7jcUX7N",
        "colab_type": "text"
      },
      "source": [
        "*a*) Import the dataset "
      ]
    },
    {
      "cell_type": "code",
      "metadata": {
        "id": "K73S7g_n7XCK",
        "colab_type": "code",
        "colab": {}
      },
      "source": [
        "drive.mount('/content/gdrive')"
      ],
      "execution_count": 0,
      "outputs": []
    },
    {
      "cell_type": "code",
      "metadata": {
        "id": "2hJfBRSS81Rg",
        "colab_type": "code",
        "outputId": "5d27851c-3973-4b33-e5df-b3b13a363287",
        "colab": {
          "base_uri": "https://localhost:8080/",
          "height": 34
        }
      },
      "source": [
        "cd /content/gdrive/My Drive/"
      ],
      "execution_count": 3,
      "outputs": [
        {
          "output_type": "stream",
          "text": [
            "/content/gdrive/My Drive\n"
          ],
          "name": "stdout"
        }
      ]
    },
    {
      "cell_type": "code",
      "metadata": {
        "id": "J0a-DYcNog5h",
        "colab_type": "code",
        "colab": {}
      },
      "source": [
        "ls"
      ],
      "execution_count": 0,
      "outputs": []
    },
    {
      "cell_type": "code",
      "metadata": {
        "id": "DmOE84Xzp7Es",
        "colab_type": "code",
        "colab": {}
      },
      "source": [
        "#Import the dataset\n",
        "dataset = read_csv(r'UTSusageAutOct2019.csv', header = 0, index_col = ['ReadingDateTime'] ) #parse_dates = [['Date', 'Time']]\n",
        "print(dataset.columns)\n",
        "needed_columns = [\n",
        "       'kWh'  , 'kW'  , 'kVa'  , 'Power Factor' , \n",
        "       'kWh.1', 'kW.1', 'kVa.1', 'Power Factor.1',\n",
        "       'kWh.2', 'kW.2', 'kVa.2', 'Power Factor.2',\n",
        "       'kWh.3', 'kW.3', 'kVa.3', 'Power Factor.3',\n",
        "       'kWh.4', 'kW.4', 'kVa.4', 'Power Factor.4',\n",
        "       'DemandKva']\n",
        "dataset = dataset[needed_columns]\n",
        "print(dataset['DemandKva'][0:5])\n",
        "kva_s  = MinMaxScaler()\n",
        "kva1_s = MinMaxScaler()\n",
        "kva2_s = MinMaxScaler()\n",
        "kva3_s = MinMaxScaler()\n",
        "kva4_s = MinMaxScaler()\n",
        "demand_s = MinMaxScaler()\n",
        "\n",
        "dataset['kVa'] = kva_s.fit_transform(dataset[['kVa']])\n",
        "dataset['kVa.1'] = kva1_s.fit_transform(dataset[['kVa.1']])\n",
        "dataset['kVa.2'] = kva2_s.fit_transform(dataset[['kVa.2']])\n",
        "dataset['kVa.3'] = kva3_s.fit_transform(dataset[['kVa.3']])\n",
        "dataset['kVa.4'] = kva4_s.fit_transform(dataset[['kVa.4']])\n",
        "dataset['DemandKva'] = demand_s.fit_transform(dataset[['DemandKva']])\n",
        "dataset.head()"
      ],
      "execution_count": 0,
      "outputs": []
    },
    {
      "cell_type": "markdown",
      "metadata": {
        "id": "P-FQPQB9p3iP",
        "colab_type": "text"
      },
      "source": [
        "# **3. Model**"
      ]
    },
    {
      "cell_type": "markdown",
      "metadata": {
        "id": "CaG-jnqVR6Ct",
        "colab_type": "text"
      },
      "source": [
        "a) Split"
      ]
    },
    {
      "cell_type": "code",
      "metadata": {
        "id": "5Y0sFAkvGBVO",
        "colab_type": "code",
        "colab": {}
      },
      "source": [
        "def split_dataset(dataset, test_ratio = 0.2):\n",
        "  ##########################################\n",
        "  # Split the dataset into train, test set #\n",
        "  ##########################################\n",
        "  train_size = int(len(dataset) * (1-test_ratio))\n",
        "  train = dataset[:train_size]\n",
        "  test = dataset[train_size:]\n",
        "  return train, test\n",
        "\n",
        "def split_sequences(sequences, n_steps_in, n_steps_out):\n",
        "  ##############################################\n",
        "  # split a multivariate sequence into samples #\n",
        "  ##############################################\n",
        "  X, y = list(), list()\n",
        "  for i in range(len(sequences)):\n",
        "    # find the end of this pattern\n",
        "    end_ix = i + n_steps_in\n",
        "    out_end_ix = end_ix + n_steps_out-1 # check if we are beyond the dataset \n",
        "    if out_end_ix > len(sequences):\n",
        "      break\n",
        "    # gather input and output parts of the pattern\n",
        "    seq_x, seq_y = sequences[i:end_ix, :-1], sequences[end_ix-1:out_end_ix, -1] \n",
        "    X.append(seq_x)\n",
        "    y.append(seq_y)\n",
        "  return array(X), array(y)\n"
      ],
      "execution_count": 0,
      "outputs": []
    },
    {
      "cell_type": "markdown",
      "metadata": {
        "id": "Al-pB4cYU2Is",
        "colab_type": "text"
      },
      "source": [
        "\n",
        "\n",
        "```\n",
        "needed_columns = [\n",
        "       'kWh'  , 'kW'  , 'kVa'  , 'Power Factor' , \n",
        "       'kWh.1', 'kW.1', 'kVa.1', 'Power Factor.1',\n",
        "       'kWh.2', 'kW.2', 'kVa.2', 'Power Factor.2',\n",
        "       'kWh.3', 'kW.3', 'kVa.3', 'Power Factor.3',\n",
        "       'kWh.4', 'kW.4', 'kVa.4', 'Power Factor.4',\n",
        "       'DemandKva']\n",
        "```"
      ]
    },
    {
      "cell_type": "code",
      "metadata": {
        "id": "zfvHlEuBUeYn",
        "colab_type": "code",
        "colab": {}
      },
      "source": [
        "#Preprocess the data\n",
        "output = array(dataset['DemandKva']).reshape((len(dataset)), 1)\n",
        "var1 = array(dataset['kVa']).reshape((len(dataset)), 1)\n",
        "var2 = array(dataset['kVa.1']).reshape((len(dataset)), 1)\n",
        "var3 = array(dataset['kVa.2']).reshape((len(dataset)), 1)\n",
        "var4 = array(dataset['kVa.3']).reshape((len(dataset)), 1)\n",
        "var5 = array(dataset['kVa.4']).reshape((len(dataset)), 1)\n",
        "#var6 = array(dataset['']).reshape((len(dataset)), 1)\n",
        "#var7 = array(dataset['']).reshape((len(dataset)), 1)\n",
        "#var8 = array(dataset['']).reshape((len(dataset)), 1)\n",
        "#var9 = array(dataset['']).reshape((len(dataset)), 1)\n",
        "\n",
        "input_dataset =  hstack((var1, var2, var3, var4, var5, output))"
      ],
      "execution_count": 0,
      "outputs": []
    },
    {
      "cell_type": "code",
      "metadata": {
        "id": "2ybOH-taqjVf",
        "colab_type": "code",
        "outputId": "e91d5f80-4734-4433-ba6f-0ae2e4942810",
        "colab": {
          "base_uri": "https://localhost:8080/",
          "height": 255
        }
      },
      "source": [
        "print(output)\n",
        "print(input_dataset)"
      ],
      "execution_count": 8,
      "outputs": [
        {
          "output_type": "stream",
          "text": [
            "[[0.09895793]\n",
            " [0.13130066]\n",
            " [0.09347742]\n",
            " ...\n",
            " [0.29756851]\n",
            " [0.35970668]\n",
            " [0.32196063]]\n",
            "[[0.03450835 0.13539222 0.09975889 0.01474531 0.40421793 0.09895793]\n",
            " [0.04378479 0.1730698  0.09674503 0.0227882  0.45869947 0.13130066]\n",
            " [0.04935065 0.13119209 0.10126582 0.02412869 0.35207967 0.09347742]\n",
            " ...\n",
            " [0.70834879 0.14947498 0.11030741 0.0308311  0.75336848 0.29756851]\n",
            " [0.54137291 0.30772082 0.11603376 0.01474531 0.73403632 0.35970668]\n",
            " [0.49499072 0.28869673 0.11181435 0.02412869 0.61511424 0.32196063]]\n"
          ],
          "name": "stdout"
        }
      ]
    },
    {
      "cell_type": "code",
      "metadata": {
        "id": "4Tg-ko1B1m4R",
        "colab_type": "code",
        "outputId": "8f4c02c5-c0e3-4e67-ac3a-73d3a382f709",
        "colab": {
          "base_uri": "https://localhost:8080/",
          "height": 187
        }
      },
      "source": [
        "n_steps_in= 5\n",
        "n_steps_out = 5\n",
        "# split dataset into train and test set\n",
        "train, test = split_dataset(input_dataset, 0.2)\n",
        "# split into samples\n",
        "X_train, y_train = split_sequences(train, n_steps_in, n_steps_out)\n",
        "X_test, y_test = split_sequences(test, n_steps_in, n_steps_out)\n",
        "#y_train = demand_s.inverse_transform(y_train)\n",
        "#y_test = demand_s.inverse_transform(y_test)\n",
        "print(X_train.shape)\n",
        "print(y_train.shape)\n",
        "print(X_test.shape)\n",
        "print(y_test.shape)\n",
        "print(X_train[0])\n",
        "print(y_train[0])"
      ],
      "execution_count": 23,
      "outputs": [
        {
          "output_type": "stream",
          "text": [
            "(2872, 5, 5)\n",
            "(2872, 5)\n",
            "(712, 5, 5)\n",
            "(712, 5)\n",
            "[[0.03450835 0.13539222 0.09975889 0.01474531 0.40421793]\n",
            " [0.04378479 0.1730698  0.09674503 0.0227882  0.45869947]\n",
            " [0.04935065 0.13119209 0.10126582 0.02412869 0.35207967]\n",
            " [0.05454545 0.16911674 0.0952381  0.00938338 0.14762742]\n",
            " [0.4296846  0.16553428 0.09885473 0.01474531 0.39660223]]\n",
            "[0.19876496 0.13577769 0.0825164  0.10343497 0.23936704]\n"
          ],
          "name": "stdout"
        }
      ]
    },
    {
      "cell_type": "markdown",
      "metadata": {
        "id": "gtoeghKuSCkB",
        "colab_type": "text"
      },
      "source": [
        "c) Train LSTM model"
      ]
    },
    {
      "cell_type": "code",
      "metadata": {
        "id": "rcKdnahJH7Y_",
        "colab_type": "code",
        "outputId": "075a7e94-49bc-4ca8-a13c-c80761077705",
        "colab": {
          "base_uri": "https://localhost:8080/",
          "height": 34
        }
      },
      "source": [
        "import tensorflow\n",
        "print(tensorflow.__version__)\n",
        "from tensorflow.keras.models import Sequential\n",
        "from tensorflow.keras.layers import LSTM\n",
        "from tensorflow.keras.layers import Dense, Dropout"
      ],
      "execution_count": 24,
      "outputs": [
        {
          "output_type": "stream",
          "text": [
            "2.1.0\n"
          ],
          "name": "stdout"
        }
      ]
    },
    {
      "cell_type": "code",
      "metadata": {
        "id": "LWMmEYukp641",
        "colab_type": "code",
        "outputId": "cc269bd8-fd5c-45ef-b86d-4374ff8e6ec8",
        "colab": {
          "base_uri": "https://localhost:8080/",
          "height": 1000
        }
      },
      "source": [
        "def build_model(X_train, y_train, X_test, y_test, n_steps_in, n_steps_out, epochs, verbose): \n",
        "  ## Build an LSTM model ##\n",
        "    # Define model\n",
        "    model = Sequential()\n",
        "    model.add(LSTM(150, activation='relu', return_sequences= False, input_shape=(n_steps_in, X_train.shape[2])))\n",
        "    model.add(Dropout(0.001))\n",
        "    #model.add(LSTM(100, activation='relu', return_sequences= False))\n",
        "    #model.add(Dense(5))\n",
        "    #model.add(LSTM(26, activation= 'relu'))\n",
        "    #model.add(Dropout(0.01))\n",
        "    model.add(Dense(n_steps_out))\n",
        "    \n",
        "    # Train Model\n",
        "    model.compile(optimizer='adam', loss='mse')\n",
        "    history = model.fit(X_train, y_train, epochs=epochs, verbose=verbose, validation_split= 0.2, shuffle = False)\n",
        "    \n",
        "    # Visualise Epoch\n",
        "    plt.plot(history.history['loss'], label='loss')\n",
        "    plt.plot(history.history['val_loss'], label='val_loss')\n",
        "    plt.legend()\n",
        "\n",
        "    return model, history\n",
        "\n",
        "model, history = build_model(X_train, y_train, X_test, y_test, n_steps_in = n_steps_in, n_steps_out = n_steps_out, epochs = 80, verbose = 2)"
      ],
      "execution_count": 58,
      "outputs": [
        {
          "output_type": "stream",
          "text": [
            "Train on 2297 samples, validate on 575 samples\n",
            "Epoch 1/80\n",
            "2297/2297 - 1s - loss: 0.0355 - val_loss: 0.0130\n",
            "Epoch 2/80\n",
            "2297/2297 - 1s - loss: 0.0112 - val_loss: 0.0123\n",
            "Epoch 3/80\n",
            "2297/2297 - 1s - loss: 0.0100 - val_loss: 0.0114\n",
            "Epoch 4/80\n",
            "2297/2297 - 1s - loss: 0.0090 - val_loss: 0.0106\n",
            "Epoch 5/80\n",
            "2297/2297 - 1s - loss: 0.0081 - val_loss: 0.0095\n",
            "Epoch 6/80\n",
            "2297/2297 - 1s - loss: 0.0074 - val_loss: 0.0088\n",
            "Epoch 7/80\n",
            "2297/2297 - 1s - loss: 0.0069 - val_loss: 0.0081\n",
            "Epoch 8/80\n",
            "2297/2297 - 1s - loss: 0.0065 - val_loss: 0.0077\n",
            "Epoch 9/80\n",
            "2297/2297 - 1s - loss: 0.0062 - val_loss: 0.0073\n",
            "Epoch 10/80\n",
            "2297/2297 - 1s - loss: 0.0059 - val_loss: 0.0070\n",
            "Epoch 11/80\n",
            "2297/2297 - 1s - loss: 0.0057 - val_loss: 0.0068\n",
            "Epoch 12/80\n",
            "2297/2297 - 1s - loss: 0.0055 - val_loss: 0.0066\n",
            "Epoch 13/80\n",
            "2297/2297 - 1s - loss: 0.0054 - val_loss: 0.0064\n",
            "Epoch 14/80\n",
            "2297/2297 - 1s - loss: 0.0053 - val_loss: 0.0063\n",
            "Epoch 15/80\n",
            "2297/2297 - 1s - loss: 0.0051 - val_loss: 0.0062\n",
            "Epoch 16/80\n",
            "2297/2297 - 1s - loss: 0.0050 - val_loss: 0.0061\n",
            "Epoch 17/80\n",
            "2297/2297 - 1s - loss: 0.0049 - val_loss: 0.0060\n",
            "Epoch 18/80\n",
            "2297/2297 - 1s - loss: 0.0048 - val_loss: 0.0059\n",
            "Epoch 19/80\n",
            "2297/2297 - 1s - loss: 0.0048 - val_loss: 0.0058\n",
            "Epoch 20/80\n",
            "2297/2297 - 1s - loss: 0.0047 - val_loss: 0.0057\n",
            "Epoch 21/80\n",
            "2297/2297 - 1s - loss: 0.0047 - val_loss: 0.0057\n",
            "Epoch 22/80\n",
            "2297/2297 - 1s - loss: 0.0046 - val_loss: 0.0056\n",
            "Epoch 23/80\n",
            "2297/2297 - 1s - loss: 0.0045 - val_loss: 0.0055\n",
            "Epoch 24/80\n",
            "2297/2297 - 1s - loss: 0.0045 - val_loss: 0.0054\n",
            "Epoch 25/80\n",
            "2297/2297 - 1s - loss: 0.0044 - val_loss: 0.0054\n",
            "Epoch 26/80\n",
            "2297/2297 - 1s - loss: 0.0044 - val_loss: 0.0054\n",
            "Epoch 27/80\n",
            "2297/2297 - 1s - loss: 0.0043 - val_loss: 0.0053\n",
            "Epoch 28/80\n",
            "2297/2297 - 1s - loss: 0.0043 - val_loss: 0.0052\n",
            "Epoch 29/80\n",
            "2297/2297 - 1s - loss: 0.0044 - val_loss: 0.0055\n",
            "Epoch 30/80\n",
            "2297/2297 - 1s - loss: 0.0043 - val_loss: 0.0052\n",
            "Epoch 31/80\n",
            "2297/2297 - 1s - loss: 0.0042 - val_loss: 0.0051\n",
            "Epoch 32/80\n",
            "2297/2297 - 1s - loss: 0.0042 - val_loss: 0.0051\n",
            "Epoch 33/80\n",
            "2297/2297 - 1s - loss: 0.0041 - val_loss: 0.0050\n",
            "Epoch 34/80\n",
            "2297/2297 - 1s - loss: 0.0041 - val_loss: 0.0050\n",
            "Epoch 35/80\n",
            "2297/2297 - 1s - loss: 0.0041 - val_loss: 0.0049\n",
            "Epoch 36/80\n",
            "2297/2297 - 1s - loss: 0.0041 - val_loss: 0.0049\n",
            "Epoch 37/80\n",
            "2297/2297 - 1s - loss: 0.0040 - val_loss: 0.0048\n",
            "Epoch 38/80\n",
            "2297/2297 - 1s - loss: 0.0040 - val_loss: 0.0048\n",
            "Epoch 39/80\n",
            "2297/2297 - 1s - loss: 0.0040 - val_loss: 0.0047\n",
            "Epoch 40/80\n",
            "2297/2297 - 1s - loss: 0.0039 - val_loss: 0.0047\n",
            "Epoch 41/80\n",
            "2297/2297 - 1s - loss: 0.0039 - val_loss: 0.0047\n",
            "Epoch 42/80\n",
            "2297/2297 - 1s - loss: 0.0039 - val_loss: 0.0047\n",
            "Epoch 43/80\n",
            "2297/2297 - 1s - loss: 0.0039 - val_loss: 0.0047\n",
            "Epoch 44/80\n",
            "2297/2297 - 1s - loss: 0.0038 - val_loss: 0.0046\n",
            "Epoch 45/80\n",
            "2297/2297 - 1s - loss: 0.0038 - val_loss: 0.0046\n",
            "Epoch 46/80\n",
            "2297/2297 - 1s - loss: 0.0038 - val_loss: 0.0046\n",
            "Epoch 47/80\n",
            "2297/2297 - 1s - loss: 0.0038 - val_loss: 0.0046\n",
            "Epoch 48/80\n",
            "2297/2297 - 1s - loss: 0.0037 - val_loss: 0.0046\n",
            "Epoch 49/80\n",
            "2297/2297 - 1s - loss: 0.0037 - val_loss: 0.0045\n",
            "Epoch 50/80\n",
            "2297/2297 - 1s - loss: 0.0037 - val_loss: 0.0045\n",
            "Epoch 51/80\n",
            "2297/2297 - 1s - loss: 0.0037 - val_loss: 0.0045\n",
            "Epoch 52/80\n",
            "2297/2297 - 1s - loss: 0.0036 - val_loss: 0.0045\n",
            "Epoch 53/80\n",
            "2297/2297 - 1s - loss: 0.0036 - val_loss: 0.0045\n",
            "Epoch 54/80\n",
            "2297/2297 - 1s - loss: 0.0036 - val_loss: 0.0045\n",
            "Epoch 55/80\n",
            "2297/2297 - 1s - loss: 0.0036 - val_loss: 0.0045\n",
            "Epoch 56/80\n",
            "2297/2297 - 1s - loss: 0.0035 - val_loss: 0.0045\n",
            "Epoch 57/80\n",
            "2297/2297 - 1s - loss: 0.0035 - val_loss: 0.0045\n",
            "Epoch 58/80\n",
            "2297/2297 - 1s - loss: 0.0035 - val_loss: 0.0045\n",
            "Epoch 59/80\n",
            "2297/2297 - 1s - loss: 0.0035 - val_loss: 0.0044\n",
            "Epoch 60/80\n",
            "2297/2297 - 1s - loss: 0.0035 - val_loss: 0.0044\n",
            "Epoch 61/80\n",
            "2297/2297 - 1s - loss: 0.0035 - val_loss: 0.0044\n",
            "Epoch 62/80\n",
            "2297/2297 - 1s - loss: 0.0035 - val_loss: 0.0044\n",
            "Epoch 63/80\n",
            "2297/2297 - 1s - loss: 0.0034 - val_loss: 0.0044\n",
            "Epoch 64/80\n",
            "2297/2297 - 1s - loss: 0.0034 - val_loss: 0.0044\n",
            "Epoch 65/80\n",
            "2297/2297 - 1s - loss: 0.0034 - val_loss: 0.0044\n",
            "Epoch 66/80\n",
            "2297/2297 - 1s - loss: 0.0033 - val_loss: 0.0044\n",
            "Epoch 67/80\n",
            "2297/2297 - 1s - loss: 0.0033 - val_loss: 0.0044\n",
            "Epoch 68/80\n",
            "2297/2297 - 1s - loss: 0.0033 - val_loss: 0.0044\n",
            "Epoch 69/80\n",
            "2297/2297 - 1s - loss: 0.0033 - val_loss: 0.0044\n",
            "Epoch 70/80\n",
            "2297/2297 - 1s - loss: 0.0033 - val_loss: 0.0044\n",
            "Epoch 71/80\n",
            "2297/2297 - 1s - loss: 0.0032 - val_loss: 0.0044\n",
            "Epoch 72/80\n",
            "2297/2297 - 1s - loss: 0.0032 - val_loss: 0.0044\n",
            "Epoch 73/80\n",
            "2297/2297 - 1s - loss: 0.0032 - val_loss: 0.0044\n",
            "Epoch 74/80\n",
            "2297/2297 - 1s - loss: 0.0032 - val_loss: 0.0045\n",
            "Epoch 75/80\n",
            "2297/2297 - 1s - loss: 0.0032 - val_loss: 0.0045\n",
            "Epoch 76/80\n",
            "2297/2297 - 1s - loss: 0.0032 - val_loss: 0.0045\n",
            "Epoch 77/80\n",
            "2297/2297 - 1s - loss: 0.0032 - val_loss: 0.0045\n",
            "Epoch 78/80\n",
            "2297/2297 - 1s - loss: 0.0032 - val_loss: 0.0045\n",
            "Epoch 79/80\n",
            "2297/2297 - 1s - loss: 0.0031 - val_loss: 0.0044\n",
            "Epoch 80/80\n",
            "2297/2297 - 1s - loss: 0.0031 - val_loss: 0.0044\n"
          ],
          "name": "stdout"
        },
        {
          "output_type": "display_data",
          "data": {
            "image/png": "[encoded data removed]",
            "text/plain": [
              "<Figure size 720x360 with 1 Axes>"
            ]
          },
          "metadata": {
            "tags": []
          }
        }
      ]
    },
    {
      "cell_type": "markdown",
      "metadata": {
        "id": "4Gll4U3XSYUA",
        "colab_type": "text"
      },
      "source": [
        "c) Prediction"
      ]
    },
    {
      "cell_type": "code",
      "metadata": {
        "id": "RkVS5mvrp6tj",
        "colab_type": "code",
        "colab": {}
      },
      "source": [
        "def RMSE(model, X_test, y_test, n_steps_out):\n",
        "  y_hat = demand_s.inverse_transform(model.predict(X_test))\n",
        "  \n",
        "  RMSE = np.sqrt(mean_squared_error(demand_s.inverse_transform(y_test), y_hat, multioutput='raw_values'))\n",
        "  mean_RMSE = sum(RMSE)/ n_steps_out\n",
        "    \n",
        "  return y_hat, RMSE, mean_RMSE"
      ],
      "execution_count": 0,
      "outputs": []
    },
    {
      "cell_type": "code",
      "metadata": {
        "id": "GR4Lh0hMqg_4",
        "colab_type": "code",
        "outputId": "252b8e2e-0c94-466f-c72e-022f42e5671e",
        "colab": {
          "base_uri": "https://localhost:8080/",
          "height": 85
        }
      },
      "source": [
        "#####################\n",
        "y_hat_train, RMSE_train, mean_RMSE_train = RMSE(model, X_train, y_train, n_steps_out)\n",
        "print(\"Train RMSE: \" + str(RMSE_train))\n",
        "print(\"Mean Train RMSE: \"+ str(mean_RMSE_train))\n",
        "#####################\n",
        "y_hat, RMSE_test, mean_RMSE_test = RMSE(model, X_test, y_test, n_steps_out)\n",
        "print(\"Test RMSE: \" + str(RMSE_test))\n",
        "print(\"Mean Test RMSE: \" + str(mean_RMSE_test))"
      ],
      "execution_count": 59,
      "outputs": [
        {
          "output_type": "stream",
          "text": [
            "Train RMSE: [1.68567417 6.92023125 7.91567117 8.89205855 9.85662915]\n",
            "Mean Train RMSE: 7.054052858197947\n",
            "Test RMSE: [ 1.82847222  8.97842317  9.92902741 10.75148069 11.51316149]\n",
            "Mean Test RMSE: 8.600112995674596\n"
          ],
          "name": "stdout"
        }
      ]
    },
    {
      "cell_type": "markdown",
      "metadata": {
        "id": "_MfZIAANNX4_",
        "colab_type": "text"
      },
      "source": [
        "d) Save the model"
      ]
    },
    {
      "cell_type": "code",
      "metadata": {
        "id": "T9XctM40NbeA",
        "colab_type": "code",
        "colab": {}
      },
      "source": [
        "model.save(\"./LSTMmul/LSTM__________.h5\")"
      ],
      "execution_count": 0,
      "outputs": []
    }
  ]
}